{
 "cells": [
  {
   "cell_type": "code",
   "execution_count": 1,
   "metadata": {
    "collapsed": false
   },
   "outputs": [],
   "source": [
    "import pandas as pd\n",
    "import numpy as np\n",
    "import time\n",
    "from sklearn.ensemble import BaggingClassifier, RandomForestClassifier\n",
    "from sklearn.multiclass import OneVsRestClassifier\n",
    "from sklearn.svm import SVC"
   ]
  },
  {
   "cell_type": "code",
   "execution_count": 2,
   "metadata": {
    "collapsed": false
   },
   "outputs": [
    {
     "name": "stderr",
     "output_type": "stream",
     "text": [
      "C:\\Users\\skrzym\\Anaconda3\\lib\\site-packages\\IPython\\core\\interactiveshell.py:2902: DtypeWarning: Columns (46) have mixed types. Specify dtype option on import or set low_memory=False.\n",
      "  interactivity=interactivity, compiler=compiler, result=result)\n",
      "C:\\Users\\skrzym\\Anaconda3\\lib\\site-packages\\IPython\\core\\interactiveshell.py:2902: DtypeWarning: Columns (26) have mixed types. Specify dtype option on import or set low_memory=False.\n",
      "  interactivity=interactivity, compiler=compiler, result=result)\n",
      "C:\\Users\\skrzym\\Anaconda3\\lib\\site-packages\\IPython\\core\\interactiveshell.py:2902: DtypeWarning: Columns (26,46) have mixed types. Specify dtype option on import or set low_memory=False.\n",
      "  interactivity=interactivity, compiler=compiler, result=result)\n"
     ]
    }
   ],
   "source": [
    "seasons = pd.read_csv(\"Data/RegularSeasonData/pbp2009.csv\")\n",
    "for x in range(7):\n",
    "    data = pd.read_csv(\"Data/RegularSeasonData/pbp201\"+str(x)+\".csv\")\n",
    "    seasons = seasons.append(data)"
   ]
  },
  {
   "cell_type": "code",
   "execution_count": 3,
   "metadata": {
    "collapsed": false,
    "scrolled": true
   },
   "outputs": [],
   "source": [
    "#cdata = seasons[['qtr', 'down', 'time', 'TimeUnder', 'yrdline100', 'ScoreDiff', 'PlayType']]\n",
    "cdata = seasons[['qtr', 'down', 'TimeUnder', 'yrdline100', 'ScoreDiff', 'PlayType']]"
   ]
  },
  {
   "cell_type": "code",
   "execution_count": 4,
   "metadata": {
    "collapsed": false
   },
   "outputs": [],
   "source": [
    "valid_play_types = [\n",
    "    'Field Goal',\n",
    "    'Pass',\n",
    "    'Run',\n",
    "    'QB Kneel',\n",
    "    'Punt'\n",
    "]\n",
    "def match(playtype):\n",
    "    return playtype in valid_play_types"
   ]
  },
  {
   "cell_type": "code",
   "execution_count": 5,
   "metadata": {
    "collapsed": false
   },
   "outputs": [],
   "source": [
    "cdata = cdata[cdata.PlayType.map(match)]\n",
    "cdata = cdata[cdata['down'].isnull()==False]"
   ]
  },
  {
   "cell_type": "markdown",
   "metadata": {
    "collapsed": false
   },
   "source": [
    "#### Put each vector into a list and create a list of lists shaped like x and put playtype in y for classification training"
   ]
  },
  {
   "cell_type": "code",
   "execution_count": 14,
   "metadata": {
    "collapsed": false
   },
   "outputs": [],
   "source": [
    "X = [list(rec) for rec in cdata[['qtr', 'down', 'TimeUnder', 'yrdline100', 'ScoreDiff']].to_records(index=False)]\n",
    "Y = cdata['PlayType'].tolist()\n",
    "\n",
    "X = np.array(X)\n",
    "Y = np.array(Y)"
   ]
  },
  {
   "cell_type": "code",
   "execution_count": 8,
   "metadata": {
    "collapsed": false
   },
   "outputs": [],
   "source": [
    "def build_bagging_model(x,y):\n",
    "    clf = OneVsRestClassifier(BaggingClassifier(SVC(kernel='linear', probability=True, class_weight='balanced'), max_samples=1.0 / 1000, n_estimators=10))\n",
    "    clf.fit(x,y)\n",
    "    return clf\n",
    "    print(clf.predict_proba(x))\n",
    "\n",
    "def build_random_forest_model(x,y):\n",
    "    clf = RandomForestClassifier(min_samples_leaf=20)\n",
    "    clf.fit(x,y)\n",
    "    return clf\n",
    "    print(clf.score(x,y))\n",
    "    print(clf.predict_proba(x[5]))"
   ]
  },
  {
   "cell_type": "code",
   "execution_count": 12,
   "metadata": {
    "collapsed": false,
    "scrolled": true
   },
   "outputs": [
    {
     "name": "stdout",
     "output_type": "stream",
     "text": [
      "2.7429697513580322\n"
     ]
    },
    {
     "data": {
      "text/plain": [
       "0.71186992801222826"
      ]
     },
     "execution_count": 12,
     "metadata": {},
     "output_type": "execute_result"
    }
   ],
   "source": [
    "start = time.time()\n",
    "rfc = build_random_forest_model(X,Y) # less than 5 seconds and uses full dataset\n",
    "stop = time.time()\n",
    "print(stop - start)\n",
    "rfc.score(X,Y)"
   ]
  },
  {
   "cell_type": "code",
   "execution_count": 15,
   "metadata": {
    "collapsed": false
   },
   "outputs": [
    {
     "name": "stdout",
     "output_type": "stream",
     "text": [
      "8.418323993682861\n"
     ]
    },
    {
     "data": {
      "text/plain": [
       "0.59648545030839117"
      ]
     },
     "execution_count": 15,
     "metadata": {},
     "output_type": "execute_result"
    }
   ],
   "source": [
    "start = time.time()\n",
    "bc = build_bagging_model(X,Y) # takes about 3-4 minutes on my machine and it's sampling very little of the data\n",
    "stop = time.time()\n",
    "print(stop - start)\n",
    "bc.score(X,Y)"
   ]
  },
  {
   "cell_type": "code",
   "execution_count": 16,
   "metadata": {
    "collapsed": false
   },
   "outputs": [
    {
     "name": "stdout",
     "output_type": "stream",
     "text": [
      "Bagging SVC\n",
      "('Field Goal', '28.07')\n",
      "('Pass', '41.02')\n",
      "('Punt', '18.77')\n",
      "('QB Kneel', '2.71')\n",
      "('Run', '9.44')\n",
      "\n",
      "Random Forest\n",
      "('Field Goal', '85.19')\n",
      "('Pass', '11.17')\n",
      "('Punt', '0.76')\n",
      "('QB Kneel', '0.0')\n",
      "('Run', '2.88')\n"
     ]
    }
   ],
   "source": [
    "qtr = 4\n",
    "down = 4\n",
    "TimeUnder = 1\n",
    "yrdline100 = 20\n",
    "ScoreDiff = -3\n",
    "\n",
    "test_case = [[qtr,down,TimeUnder,yrdline100,ScoreDiff]]\n",
    "classes = rfc.classes_\n",
    "bcp = bc.predict_proba(test_case)[0]*100\n",
    "rfcp = rfc.predict_proba(test_case)[0]*100\n",
    "\n",
    "bcp = [str(round(x,2)) for x in bcp]\n",
    "rfcp = [str(round(x,2)) for x in rfcp]\n",
    "\n",
    "print(\"Bagging SVC\")\n",
    "for item in zip(classes,bcp):\n",
    "    print(item)\n",
    "\n",
    "print(\"\")\n",
    "print(\"Random Forest\")\n",
    "for item in zip(classes,rfcp):\n",
    "    print(item)\n",
    "\n"
   ]
  },
  {
   "cell_type": "code",
   "execution_count": null,
   "metadata": {
    "collapsed": true
   },
   "outputs": [],
   "source": []
  }
 ],
 "metadata": {
  "kernelspec": {
   "display_name": "Python 3",
   "language": "python",
   "name": "python3"
  },
  "language_info": {
   "codemirror_mode": {
    "name": "ipython",
    "version": 3
   },
   "file_extension": ".py",
   "mimetype": "text/x-python",
   "name": "python",
   "nbconvert_exporter": "python",
   "pygments_lexer": "ipython3",
   "version": "3.5.1"
  },
  "widgets": {
   "state": {},
   "version": "1.1.2"
  }
 },
 "nbformat": 4,
 "nbformat_minor": 0
}
