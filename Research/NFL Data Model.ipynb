{
 "cells": [
  {
   "cell_type": "code",
   "execution_count": 1,
   "metadata": {
    "collapsed": true
   },
   "outputs": [],
   "source": [
    "%matplotlib inline"
   ]
  },
  {
   "cell_type": "code",
   "execution_count": 2,
   "metadata": {
    "collapsed": false
   },
   "outputs": [],
   "source": [
    "import pandas as pd\n",
    "import numpy as np\n",
    "import glob\n",
    "import time\n",
    "from sklearn.ensemble import BaggingClassifier, RandomForestClassifier\n",
    "from sklearn.multiclass import OneVsRestClassifier\n",
    "from sklearn.svm import SVC\n",
    "from sklearn.model_selection import train_test_split"
   ]
  },
  {
   "cell_type": "code",
   "execution_count": 3,
   "metadata": {
    "collapsed": false
   },
   "outputs": [],
   "source": [
    "def gather_and_process_data(path):\n",
    "    # TODO\n",
    "    # Error raised if passed path is invalid\n",
    "    files = glob.glob(path)\n",
    "    seasons = pd.read_csv(files[0])\n",
    "    for x in files[1:-1]:\n",
    "        data = pd.read_csv(x)\n",
    "        seasons = seasons.append(data)\n",
    "    \n",
    "    # Pull specific columns for the model here\n",
    "    # 'time' column has the specific 'XX:XX' game clock that can be used if converted to a usable number\n",
    "    cdata = seasons[['qtr', 'down', 'TimeUnder', 'yrdline100', 'ScoreDiff', 'PlayType']]\n",
    "    \n",
    "    \n",
    "    def match(playtype):\n",
    "        valid_play_types = [\n",
    "        'Field Goal',\n",
    "        'Pass',\n",
    "        'Run',\n",
    "        'QB Kneel',\n",
    "        'Punt'\n",
    "        ]\n",
    "        return playtype in valid_play_types\n",
    "    \n",
    "    cdata = cdata[cdata.PlayType.map(match)]\n",
    "    cdata = cdata[cdata['down'].isnull()==False]\n",
    "    \n",
    "    X = [list(rec) for rec in cdata[['qtr', 'down', 'TimeUnder', 'yrdline100', 'ScoreDiff']].to_records(index=False)]\n",
    "    y = cdata['PlayType'].tolist()\n",
    "    \n",
    "    X = np.array(X)\n",
    "    y = np.array(y)\n",
    "    \n",
    "    X_train, X_test, y_train, y_test = train_test_split(X, y, test_size=(0.33), random_state=42)\n",
    "    \n",
    "    return X_train, X_test, y_train, y_test"
   ]
  },
  {
   "cell_type": "code",
   "execution_count": 4,
   "metadata": {
    "collapsed": false
   },
   "outputs": [
    {
     "name": "stderr",
     "output_type": "stream",
     "text": [
      "C:\\Users\\skrzym\\Anaconda3\\lib\\site-packages\\IPython\\core\\interactiveshell.py:3006: DtypeWarning: Columns (46) have mixed types. Specify dtype option on import or set low_memory=False.\n",
      "  if self.run_code(code, result):\n",
      "C:\\Users\\skrzym\\Anaconda3\\lib\\site-packages\\IPython\\core\\interactiveshell.py:3006: DtypeWarning: Columns (26) have mixed types. Specify dtype option on import or set low_memory=False.\n",
      "  if self.run_code(code, result):\n"
     ]
    },
    {
     "name": "stdout",
     "output_type": "stream",
     "text": [
      "X_train: 163785\n",
      "y_train: 163785\n",
      "\n",
      "X_test : 80671\n",
      "y_test : 80671\n",
      "\n",
      "X_Total: 244456\n",
      "y_Total: 244456\n"
     ]
    }
   ],
   "source": [
    "csv_data_path = 'Data\\RegularSeasonData\\*.csv'\n",
    "X_train, X_test, y_train, y_test = gather_and_process_data(csv_data_path)\n",
    "\n",
    "print('X_train: {}'.format(len(X_train)))\n",
    "print('y_train: {}'.format(len(y_train)))\n",
    "print('')\n",
    "print('X_test : {}'.format(len(X_test)))\n",
    "print('y_test : {}'.format(len(y_test)))\n",
    "print('')\n",
    "print('X_Total: {}'.format(len(X_train)+len(X_test)))\n",
    "print('y_Total: {}'.format(len(y_test)+len(y_train)))\n",
    "\n"
   ]
  },
  {
   "cell_type": "code",
   "execution_count": 5,
   "metadata": {
    "collapsed": false
   },
   "outputs": [],
   "source": [
    "def build_bagging_model(x,y):\n",
    "    clf = OneVsRestClassifier(BaggingClassifier(SVC(kernel='linear', probability=True, class_weight='balanced'), max_samples=1.0 / 1000, n_estimators=10))\n",
    "    clf.fit(x,y)\n",
    "    return clf\n",
    "    print(clf.predict_proba(x))\n",
    "\n",
    "def build_random_forest_model(x,y):\n",
    "    clf = RandomForestClassifier(min_samples_leaf=20)\n",
    "    clf.fit(x,y)\n",
    "    return clf\n",
    "    print(clf.score(x,y))\n",
    "    print(clf.predict_proba(x[5]))"
   ]
  },
  {
   "cell_type": "code",
   "execution_count": 6,
   "metadata": {
    "collapsed": false,
    "scrolled": true
   },
   "outputs": [
    {
     "name": "stdout",
     "output_type": "stream",
     "text": [
      "1.736220359802246\n"
     ]
    },
    {
     "data": {
      "text/plain": [
       "0.67379851495580811"
      ]
     },
     "execution_count": 6,
     "metadata": {},
     "output_type": "execute_result"
    }
   ],
   "source": [
    "start = time.time()\n",
    "rfc = build_random_forest_model(X_train,y_train) # less than 5 seconds and uses full dataset\n",
    "stop = time.time()\n",
    "print(stop - start)\n",
    "rfc.score(X_test,y_test)"
   ]
  },
  {
   "cell_type": "code",
   "execution_count": 7,
   "metadata": {
    "collapsed": false
   },
   "outputs": [],
   "source": [
    "#start = time.time()\n",
    "#bc = build_bagging_model(X_train,y_train) # takes about 3-4 minutes on my machine and it's sampling very little of the data\n",
    "#stop = time.time()\n",
    "#print(stop - start)\n",
    "#bc.score(X_test,y_test)"
   ]
  },
  {
   "cell_type": "code",
   "execution_count": 8,
   "metadata": {
    "collapsed": false
   },
   "outputs": [
    {
     "name": "stdout",
     "output_type": "stream",
     "text": [
      "\n",
      "Random Forest\n",
      "('Field Goal', '70.57')\n",
      "('Pass', '21.17')\n",
      "('Punt', '2.53')\n",
      "('QB Kneel', '1.02')\n",
      "('Run', '4.72')\n"
     ]
    }
   ],
   "source": [
    "qtr = 4\n",
    "down = 4\n",
    "TimeUnder = 1\n",
    "yrdline100 = 20\n",
    "ScoreDiff = -3\n",
    "\n",
    "test_case = [[qtr,down,TimeUnder,yrdline100,ScoreDiff]]\n",
    "classes = rfc.classes_\n",
    "#bcp = bc.predict_proba(test_case)[0]*100\n",
    "rfcp = rfc.predict_proba(test_case)[0]*100\n",
    "\n",
    "#bcp = [str(round(x,2)) for x in bcp]\n",
    "rfcp = [str(round(x,2)) for x in rfcp]\n",
    "\n",
    "#print(\"Bagging SVC\")\n",
    "#for item in zip(classes,bcp):\n",
    "#    print(item)\n",
    "\n",
    "print(\"\")\n",
    "print(\"Random Forest\")\n",
    "for item in zip(classes,rfcp):\n",
    "    print(item)\n",
    "\n"
   ]
  },
  {
   "cell_type": "code",
   "execution_count": 9,
   "metadata": {
    "collapsed": false
   },
   "outputs": [
    {
     "data": {
      "text/plain": [
       "RandomForestClassifier(bootstrap=True, class_weight=None, criterion='gini',\n",
       "            max_depth=None, max_features='auto', max_leaf_nodes=None,\n",
       "            min_impurity_split=1e-07, min_samples_leaf=20,\n",
       "            min_samples_split=2, min_weight_fraction_leaf=0.0,\n",
       "            n_estimators=10, n_jobs=1, oob_score=False, random_state=None,\n",
       "            verbose=0, warm_start=False)"
      ]
     },
     "execution_count": 9,
     "metadata": {},
     "output_type": "execute_result"
    }
   ],
   "source": [
    "rfc"
   ]
  },
  {
   "cell_type": "code",
   "execution_count": 10,
   "metadata": {
    "collapsed": false
   },
   "outputs": [
    {
     "name": "stdout",
     "output_type": "stream",
     "text": [
      "Automatically created module for IPython interactive environment\n"
     ]
    }
   ],
   "source": [
    "print(__doc__)\n",
    "\n",
    "import numpy as np\n",
    "import matplotlib.pyplot as plt\n",
    "from itertools import cycle\n",
    "\n",
    "from sklearn import svm, datasets\n",
    "from sklearn.metrics import roc_curve, auc\n",
    "from sklearn.model_selection import train_test_split\n",
    "from sklearn.preprocessing import label_binarize\n",
    "from sklearn.multiclass import OneVsRestClassifier\n",
    "from scipy import interp\n",
    "\n",
    "# Import some data to play with\n",
    "iris = datasets.load_iris()\n",
    "X = iris.data\n",
    "y = iris.target\n",
    "\n",
    "# Binarize the output\n",
    "y = label_binarize(y, classes=[0, 1, 2])\n",
    "n_classes = y.shape[1]\n",
    "\n",
    "# Add noisy features to make the problem harder\n",
    "random_state = np.random.RandomState(0)\n",
    "n_samples, n_features = X.shape\n",
    "X = np.c_[X, random_state.randn(n_samples, 200 * n_features)]\n",
    "\n",
    "# shuffle and split training and test sets\n",
    "X_train, X_test, y_train, y_test = train_test_split(X, y, test_size=.5,\n",
    "                                                    random_state=0)\n",
    "\n",
    "# Learn to predict each class against the other\n",
    "classifier = OneVsRestClassifier(svm.SVC(kernel='linear', probability=True,\n",
    "                                 random_state=random_state))\n",
    "y_score = classifier.fit(X_train, y_train).decision_function(X_test)\n",
    "\n",
    "# Compute ROC curve and ROC area for each class\n",
    "fpr = dict()\n",
    "tpr = dict()\n",
    "roc_auc = dict()\n",
    "for i in range(n_classes):\n",
    "    fpr[i], tpr[i], _ = roc_curve(y_test[:, i], y_score[:, i])\n",
    "    roc_auc[i] = auc(fpr[i], tpr[i])\n",
    "\n",
    "# Compute micro-average ROC curve and ROC area\n",
    "fpr[\"micro\"], tpr[\"micro\"], _ = roc_curve(y_test.ravel(), y_score.ravel())\n",
    "roc_auc[\"micro\"] = auc(fpr[\"micro\"], tpr[\"micro\"])"
   ]
  },
  {
   "cell_type": "code",
   "execution_count": 11,
   "metadata": {
    "collapsed": false
   },
   "outputs": [
    {
     "data": {
      "image/png": "[encoded data removed]",
      "text/plain": [
       "<matplotlib.figure.Figure at 0x1e32088c080>"
      ]
     },
     "metadata": {},
     "output_type": "display_data"
    }
   ],
   "source": [
    "plt.figure()\n",
    "lw = 2\n",
    "plt.plot(fpr[2], tpr[2], color='darkorange',\n",
    "         lw=lw, label='ROC curve (area = %0.2f)' % roc_auc[2])\n",
    "plt.plot([0, 1], [0, 1], color='navy', lw=lw, linestyle='--')\n",
    "plt.xlim([0.0, 1.0])\n",
    "plt.ylim([0.0, 1.05])\n",
    "plt.xlabel('False Positive Rate')\n",
    "plt.ylabel('True Positive Rate')\n",
    "plt.title('Receiver operating characteristic example')\n",
    "plt.legend(loc=\"lower right\")\n",
    "plt.show()"
   ]
  },
  {
   "cell_type": "code",
   "execution_count": null,
   "metadata": {
    "collapsed": false
   },
   "outputs": [],
   "source": []
  },
  {
   "cell_type": "code",
   "execution_count": null,
   "metadata": {
    "collapsed": true
   },
   "outputs": [],
   "source": []
  }
 ],
 "metadata": {
  "kernelspec": {
   "display_name": "Python 3",
   "language": "python",
   "name": "python3"
  },
  "language_info": {
   "codemirror_mode": {
    "name": "ipython",
    "version": 3
   },
   "file_extension": ".py",
   "mimetype": "text/x-python",
   "name": "python",
   "nbconvert_exporter": "python",
   "pygments_lexer": "ipython3",
   "version": "3.5.1"
  },
  "widgets": {
   "state": {},
   "version": "1.1.2"
  }
 },
 "nbformat": 4,
 "nbformat_minor": 0
}
