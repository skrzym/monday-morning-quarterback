{
 "cells": [
  {
   "cell_type": "code",
   "execution_count": 218,
   "metadata": {
    "collapsed": true
   },
   "outputs": [],
   "source": [
    "%matplotlib inline\n",
    "import numpy as np\n",
    "import pandas as pd\n",
    "from sklearn.ensemble import RandomForestClassifier\n",
    "from sklearn.model_selection import train_test_split, RandomizedSearchCV, GridSearchCV\n",
    "from sklearn.linear_model import LogisticRegression\n",
    "import warnings\n",
    "from scipy.stats import randint as sp_randint\n",
    "from matplotlib import pyplot as plt\n",
    "import seaborn as sns"
   ]
  },
  {
   "cell_type": "code",
   "execution_count": 192,
   "metadata": {
    "collapsed": false
   },
   "outputs": [
    {
     "name": "stderr",
     "output_type": "stream",
     "text": [
      "C:\\Anaconda\\envs\\py35\\lib\\site-packages\\IPython\\core\\interactiveshell.py:2723: DtypeWarning: Columns (26,52) have mixed types. Specify dtype option on import or set low_memory=False.\n",
      "  interactivity=interactivity, compiler=compiler, result=result)\n"
     ]
    }
   ],
   "source": [
    "data = pd.read_csv('old_with_new.csv', encoding='latin1')\n",
    "data = data.iloc[:,1:]"
   ]
  },
  {
   "cell_type": "code",
   "execution_count": 193,
   "metadata": {
    "collapsed": true
   },
   "outputs": [],
   "source": [
    "def map_dr(result):\n",
    "    if type(result) != str:\n",
    "        return 0\n",
    "    for item in ['Touchdown', 'Field Goal']:\n",
    "        if item in result:\n",
    "            return 1\n",
    "        else:\n",
    "            return 0"
   ]
  },
  {
   "cell_type": "code",
   "execution_count": 194,
   "metadata": {
    "collapsed": false,
    "scrolled": false
   },
   "outputs": [],
   "source": [
    "data.dr = data.dr.apply(map_dr)"
   ]
  },
  {
   "cell_type": "code",
   "execution_count": 195,
   "metadata": {
    "collapsed": false
   },
   "outputs": [],
   "source": [
    "def process_data(seasons):\n",
    "    # Pull specific columns for the model here\n",
    "    cdata = seasons[['posteam','DefensiveTeam','qtr', 'down', 'ydstogo', 'TimeUnder', 'yrdline100', 'ScoreDiff', 'PlayType', 'Season', 'dr']]\n",
    "\n",
    "\n",
    "    def match(playtype):\n",
    "        valid_play_types = [\n",
    "        'Field Goal',\n",
    "        'Pass',\n",
    "        'Run',\n",
    "        'QB Kneel',\n",
    "        'Punt'\n",
    "        ]\n",
    "        return playtype in valid_play_types\n",
    "\n",
    "    cdata = cdata[cdata.PlayType.map(match)]\n",
    "    cdata = cdata[cdata['down'].isnull()==False]\n",
    "    cdata = cdata[cdata['dr'].isnull() == False]\n",
    "    \n",
    "    x_cols = ['posteam',\n",
    "             'DefensiveTeam',\n",
    "             'qtr',\n",
    "             'down',\n",
    "             'ydstogo',\n",
    "             'TimeUnder',\n",
    "             'yrdline100',\n",
    "             'ScoreDiff',\n",
    "             'PlayType']\n",
    "    X = cdata[x_cols]\n",
    "    X = pd.get_dummies(X,columns = ['posteam','DefensiveTeam','PlayType'])\n",
    "    X = X.values\n",
    "\n",
    "    y = cdata['dr'].tolist()\n",
    "    \n",
    "    \n",
    "\n",
    "    X = np.array(X)\n",
    "    y = np.array(y)\n",
    "\n",
    "    X_train, X_test, y_train, y_test = train_test_split(X, y, test_size=(0.33), random_state=42)\n",
    "    \n",
    "    return X_train, X_test, y_train, y_test"
   ]
  },
  {
   "cell_type": "code",
   "execution_count": 196,
   "metadata": {
    "collapsed": false
   },
   "outputs": [],
   "source": [
    "X_train, X_test, y_train, y_test = process_data(data)"
   ]
  },
  {
   "cell_type": "code",
   "execution_count": 197,
   "metadata": {
    "collapsed": false
   },
   "outputs": [
    {
     "data": {
      "text/plain": [
       "RandomForestClassifier(bootstrap=True, class_weight=None, criterion='gini',\n",
       "            max_depth=None, max_features='auto', max_leaf_nodes=None,\n",
       "            min_impurity_split=1e-07, min_samples_leaf=1,\n",
       "            min_samples_split=2, min_weight_fraction_leaf=0.0,\n",
       "            n_estimators=10, n_jobs=1, oob_score=False, random_state=None,\n",
       "            verbose=0, warm_start=False)"
      ]
     },
     "execution_count": 197,
     "metadata": {},
     "output_type": "execute_result"
    }
   ],
   "source": [
    "clf = RandomForestClassifier()\n",
    "clf.fit(X_train, y_train)"
   ]
  },
  {
   "cell_type": "code",
   "execution_count": 198,
   "metadata": {
    "collapsed": false,
    "scrolled": false
   },
   "outputs": [
    {
     "data": {
      "text/plain": [
       "0.78234422441218221"
      ]
     },
     "execution_count": 198,
     "metadata": {},
     "output_type": "execute_result"
    }
   ],
   "source": [
    "clf.score(X_test,y_test)"
   ]
  },
  {
   "cell_type": "code",
   "execution_count": 199,
   "metadata": {
    "collapsed": false
   },
   "outputs": [],
   "source": [
    "rf = RandomForestClassifier()\n",
    "\n",
    "param_dist = {\"max_depth\": [3, None],\n",
    "              \"max_features\": sp_randint(1, 20),\n",
    "              \"min_samples_split\": sp_randint(2, 111),\n",
    "              \"min_samples_leaf\": sp_randint(1, 111),\n",
    "              \"bootstrap\": [True, False],\n",
    "              \"criterion\": [\"gini\", \"entropy\"]}\n",
    "\n",
    "clf = RandomizedSearchCV(rf,param_distributions=param_dist, verbose=10, cv=10)"
   ]
  },
  {
   "cell_type": "code",
   "execution_count": 200,
   "metadata": {
    "collapsed": false
   },
   "outputs": [
    {
     "name": "stdout",
     "output_type": "stream",
     "text": [
      "Fitting 10 folds for each of 10 candidates, totalling 100 fits\n",
      "[CV] max_depth=None, criterion=entropy, min_samples_leaf=64, bootstrap=False, max_features=14, min_samples_split=28 \n",
      "[CV]  max_depth=None, criterion=entropy, min_samples_leaf=64, bootstrap=False, max_features=14, min_samples_split=28, score=0.777267, total=   8.4s\n",
      "[CV] max_depth=None, criterion=entropy, min_samples_leaf=64, bootstrap=False, max_features=14, min_samples_split=28 \n"
     ]
    },
    {
     "name": "stderr",
     "output_type": "stream",
     "text": [
      "[Parallel(n_jobs=1)]: Done   1 out of   1 | elapsed:    8.8s remaining:    0.0s\n"
     ]
    },
    {
     "name": "stdout",
     "output_type": "stream",
     "text": [
      "[CV]  max_depth=None, criterion=entropy, min_samples_leaf=64, bootstrap=False, max_features=14, min_samples_split=28, score=0.779207, total=   7.5s\n",
      "[CV] max_depth=None, criterion=entropy, min_samples_leaf=64, bootstrap=False, max_features=14, min_samples_split=28 \n"
     ]
    },
    {
     "name": "stderr",
     "output_type": "stream",
     "text": [
      "[Parallel(n_jobs=1)]: Done   2 out of   2 | elapsed:   16.7s remaining:    0.0s\n"
     ]
    },
    {
     "name": "stdout",
     "output_type": "stream",
     "text": [
      "[CV]  max_depth=None, criterion=entropy, min_samples_leaf=64, bootstrap=False, max_features=14, min_samples_split=28, score=0.781044, total=   8.0s\n",
      "[CV] max_depth=None, criterion=entropy, min_samples_leaf=64, bootstrap=False, max_features=14, min_samples_split=28 \n"
     ]
    },
    {
     "name": "stderr",
     "output_type": "stream",
     "text": [
      "[Parallel(n_jobs=1)]: Done   3 out of   3 | elapsed:   25.2s remaining:    0.0s\n"
     ]
    },
    {
     "name": "stdout",
     "output_type": "stream",
     "text": [
      "[CV]  max_depth=None, criterion=entropy, min_samples_leaf=64, bootstrap=False, max_features=14, min_samples_split=28, score=0.776706, total=   7.7s\n",
      "[CV] max_depth=None, criterion=entropy, min_samples_leaf=64, bootstrap=False, max_features=14, min_samples_split=28 \n"
     ]
    },
    {
     "name": "stderr",
     "output_type": "stream",
     "text": [
      "[Parallel(n_jobs=1)]: Done   4 out of   4 | elapsed:   33.3s remaining:    0.0s\n"
     ]
    },
    {
     "name": "stdout",
     "output_type": "stream",
     "text": [
      "[CV]  max_depth=None, criterion=entropy, min_samples_leaf=64, bootstrap=False, max_features=14, min_samples_split=28, score=0.777778, total=   7.6s\n",
      "[CV] max_depth=None, criterion=entropy, min_samples_leaf=64, bootstrap=False, max_features=14, min_samples_split=28 \n"
     ]
    },
    {
     "name": "stderr",
     "output_type": "stream",
     "text": [
      "[Parallel(n_jobs=1)]: Done   5 out of   5 | elapsed:   41.4s remaining:    0.0s\n"
     ]
    },
    {
     "name": "stdout",
     "output_type": "stream",
     "text": [
      "[CV]  max_depth=None, criterion=entropy, min_samples_leaf=64, bootstrap=False, max_features=14, min_samples_split=28, score=0.780023, total=   7.6s\n",
      "[CV] max_depth=None, criterion=entropy, min_samples_leaf=64, bootstrap=False, max_features=14, min_samples_split=28 \n"
     ]
    },
    {
     "name": "stderr",
     "output_type": "stream",
     "text": [
      "[Parallel(n_jobs=1)]: Done   6 out of   6 | elapsed:   49.5s remaining:    0.0s\n"
     ]
    },
    {
     "name": "stdout",
     "output_type": "stream",
     "text": [
      "[CV]  max_depth=None, criterion=entropy, min_samples_leaf=64, bootstrap=False, max_features=14, min_samples_split=28, score=0.782360, total=   7.8s\n",
      "[CV] max_depth=None, criterion=entropy, min_samples_leaf=64, bootstrap=False, max_features=14, min_samples_split=28 \n"
     ]
    },
    {
     "name": "stderr",
     "output_type": "stream",
     "text": [
      "[Parallel(n_jobs=1)]: Done   7 out of   7 | elapsed:   57.8s remaining:    0.0s\n"
     ]
    },
    {
     "name": "stdout",
     "output_type": "stream",
     "text": [
      "[CV]  max_depth=None, criterion=entropy, min_samples_leaf=64, bootstrap=False, max_features=14, min_samples_split=28, score=0.781799, total=   7.3s\n",
      "[CV] max_depth=None, criterion=entropy, min_samples_leaf=64, bootstrap=False, max_features=14, min_samples_split=28 \n"
     ]
    },
    {
     "name": "stderr",
     "output_type": "stream",
     "text": [
      "[Parallel(n_jobs=1)]: Done   8 out of   8 | elapsed:  1.1min remaining:    0.0s\n"
     ]
    },
    {
     "name": "stdout",
     "output_type": "stream",
     "text": [
      "[CV]  max_depth=None, criterion=entropy, min_samples_leaf=64, bootstrap=False, max_features=14, min_samples_split=28, score=0.780318, total=   7.4s\n",
      "[CV] max_depth=None, criterion=entropy, min_samples_leaf=64, bootstrap=False, max_features=14, min_samples_split=28 \n"
     ]
    },
    {
     "name": "stderr",
     "output_type": "stream",
     "text": [
      "[Parallel(n_jobs=1)]: Done   9 out of   9 | elapsed:  1.2min remaining:    0.0s\n"
     ]
    },
    {
     "name": "stdout",
     "output_type": "stream",
     "text": [
      "[CV]  max_depth=None, criterion=entropy, min_samples_leaf=64, bootstrap=False, max_features=14, min_samples_split=28, score=0.779961, total=   7.7s\n",
      "[CV] max_depth=3, criterion=entropy, min_samples_leaf=54, bootstrap=False, max_features=15, min_samples_split=53 \n",
      "[CV]  max_depth=3, criterion=entropy, min_samples_leaf=54, bootstrap=False, max_features=15, min_samples_split=53, score=0.759455, total=   1.8s\n",
      "[CV] max_depth=3, criterion=entropy, min_samples_leaf=54, bootstrap=False, max_features=15, min_samples_split=53 \n",
      "[CV]  max_depth=3, criterion=entropy, min_samples_leaf=54, bootstrap=False, max_features=15, min_samples_split=53, score=0.759455, total=   1.8s\n",
      "[CV] max_depth=3, criterion=entropy, min_samples_leaf=54, bootstrap=False, max_features=15, min_samples_split=53 \n",
      "[CV]  max_depth=3, criterion=entropy, min_samples_leaf=54, bootstrap=False, max_features=15, min_samples_split=53, score=0.759455, total=   1.8s\n",
      "[CV] max_depth=3, criterion=entropy, min_samples_leaf=54, bootstrap=False, max_features=15, min_samples_split=53 \n",
      "[CV]  max_depth=3, criterion=entropy, min_samples_leaf=54, bootstrap=False, max_features=15, min_samples_split=53, score=0.759455, total=   1.7s\n",
      "[CV] max_depth=3, criterion=entropy, min_samples_leaf=54, bootstrap=False, max_features=15, min_samples_split=53 \n",
      "[CV]  max_depth=3, criterion=entropy, min_samples_leaf=54, bootstrap=False, max_features=15, min_samples_split=53, score=0.759455, total=   1.8s\n",
      "[CV] max_depth=3, criterion=entropy, min_samples_leaf=54, bootstrap=False, max_features=15, min_samples_split=53 \n",
      "[CV]  max_depth=3, criterion=entropy, min_samples_leaf=54, bootstrap=False, max_features=15, min_samples_split=53, score=0.759455, total=   1.9s\n",
      "[CV] max_depth=3, criterion=entropy, min_samples_leaf=54, bootstrap=False, max_features=15, min_samples_split=53 \n",
      "[CV]  max_depth=3, criterion=entropy, min_samples_leaf=54, bootstrap=False, max_features=15, min_samples_split=53, score=0.759494, total=   1.7s\n",
      "[CV] max_depth=3, criterion=entropy, min_samples_leaf=54, bootstrap=False, max_features=15, min_samples_split=53 \n",
      "[CV]  max_depth=3, criterion=entropy, min_samples_leaf=54, bootstrap=False, max_features=15, min_samples_split=53, score=0.759494, total=   1.7s\n",
      "[CV] max_depth=3, criterion=entropy, min_samples_leaf=54, bootstrap=False, max_features=15, min_samples_split=53 \n",
      "[CV]  max_depth=3, criterion=entropy, min_samples_leaf=54, bootstrap=False, max_features=15, min_samples_split=53, score=0.759494, total=   1.7s\n",
      "[CV] max_depth=3, criterion=entropy, min_samples_leaf=54, bootstrap=False, max_features=15, min_samples_split=53 \n",
      "[CV]  max_depth=3, criterion=entropy, min_samples_leaf=54, bootstrap=False, max_features=15, min_samples_split=53, score=0.759494, total=   1.7s\n",
      "[CV] max_depth=None, criterion=gini, min_samples_leaf=70, bootstrap=True, max_features=11, min_samples_split=87 \n",
      "[CV]  max_depth=None, criterion=gini, min_samples_leaf=70, bootstrap=True, max_features=11, min_samples_split=87, score=0.776502, total=   4.1s\n",
      "[CV] max_depth=None, criterion=gini, min_samples_leaf=70, bootstrap=True, max_features=11, min_samples_split=87 \n",
      "[CV]  max_depth=None, criterion=gini, min_samples_leaf=70, bootstrap=True, max_features=11, min_samples_split=87, score=0.778492, total=   4.2s\n",
      "[CV] max_depth=None, criterion=gini, min_samples_leaf=70, bootstrap=True, max_features=11, min_samples_split=87 \n",
      "[CV]  max_depth=None, criterion=gini, min_samples_leaf=70, bootstrap=True, max_features=11, min_samples_split=87, score=0.778748, total=   4.1s\n",
      "[CV] max_depth=None, criterion=gini, min_samples_leaf=70, bootstrap=True, max_features=11, min_samples_split=87 \n",
      "[CV]  max_depth=None, criterion=gini, min_samples_leaf=70, bootstrap=True, max_features=11, min_samples_split=87, score=0.775175, total=   4.2s\n",
      "[CV] max_depth=None, criterion=gini, min_samples_leaf=70, bootstrap=True, max_features=11, min_samples_split=87 \n",
      "[CV]  max_depth=None, criterion=gini, min_samples_leaf=70, bootstrap=True, max_features=11, min_samples_split=87, score=0.776094, total=   4.2s\n",
      "[CV] max_depth=None, criterion=gini, min_samples_leaf=70, bootstrap=True, max_features=11, min_samples_split=87 \n",
      "[CV]  max_depth=None, criterion=gini, min_samples_leaf=70, bootstrap=True, max_features=11, min_samples_split=87, score=0.781402, total=   4.0s\n",
      "[CV] max_depth=None, criterion=gini, min_samples_leaf=70, bootstrap=True, max_features=11, min_samples_split=87 \n",
      "[CV]  max_depth=None, criterion=gini, min_samples_leaf=70, bootstrap=True, max_features=11, min_samples_split=87, score=0.780267, total=   4.3s\n",
      "[CV] max_depth=None, criterion=gini, min_samples_leaf=70, bootstrap=True, max_features=11, min_samples_split=87 \n",
      "[CV]  max_depth=None, criterion=gini, min_samples_leaf=70, bootstrap=True, max_features=11, min_samples_split=87, score=0.778430, total=   4.1s\n",
      "[CV] max_depth=None, criterion=gini, min_samples_leaf=70, bootstrap=True, max_features=11, min_samples_split=87 \n",
      "[CV]  max_depth=None, criterion=gini, min_samples_leaf=70, bootstrap=True, max_features=11, min_samples_split=87, score=0.776439, total=   4.2s\n",
      "[CV] max_depth=None, criterion=gini, min_samples_leaf=70, bootstrap=True, max_features=11, min_samples_split=87 \n",
      "[CV]  max_depth=None, criterion=gini, min_samples_leaf=70, bootstrap=True, max_features=11, min_samples_split=87, score=0.777766, total=   4.1s\n",
      "[CV] max_depth=None, criterion=entropy, min_samples_leaf=93, bootstrap=False, max_features=14, min_samples_split=31 \n",
      "[CV]  max_depth=None, criterion=entropy, min_samples_leaf=93, bootstrap=False, max_features=14, min_samples_split=31, score=0.774971, total=   7.2s\n",
      "[CV] max_depth=None, criterion=entropy, min_samples_leaf=93, bootstrap=False, max_features=14, min_samples_split=31 \n",
      "[CV]  max_depth=None, criterion=entropy, min_samples_leaf=93, bootstrap=False, max_features=14, min_samples_split=31, score=0.781095, total=   7.1s\n",
      "[CV] max_depth=None, criterion=entropy, min_samples_leaf=93, bootstrap=False, max_features=14, min_samples_split=31 \n",
      "[CV]  max_depth=None, criterion=entropy, min_samples_leaf=93, bootstrap=False, max_features=14, min_samples_split=31, score=0.780840, total=   6.9s\n",
      "[CV] max_depth=None, criterion=entropy, min_samples_leaf=93, bootstrap=False, max_features=14, min_samples_split=31 \n",
      "[CV]  max_depth=None, criterion=entropy, min_samples_leaf=93, bootstrap=False, max_features=14, min_samples_split=31, score=0.775328, total=   7.0s\n",
      "[CV] max_depth=None, criterion=entropy, min_samples_leaf=93, bootstrap=False, max_features=14, min_samples_split=31 \n",
      "[CV]  max_depth=None, criterion=entropy, min_samples_leaf=93, bootstrap=False, max_features=14, min_samples_split=31, score=0.776502, total=   7.3s\n",
      "[CV] max_depth=None, criterion=entropy, min_samples_leaf=93, bootstrap=False, max_features=14, min_samples_split=31 \n",
      "[CV]  max_depth=None, criterion=entropy, min_samples_leaf=93, bootstrap=False, max_features=14, min_samples_split=31, score=0.780483, total=   7.1s\n",
      "[CV] max_depth=None, criterion=entropy, min_samples_leaf=93, bootstrap=False, max_features=14, min_samples_split=31 \n",
      "[CV]  max_depth=None, criterion=entropy, min_samples_leaf=93, bootstrap=False, max_features=14, min_samples_split=31, score=0.779451, total=   7.6s\n",
      "[CV] max_depth=None, criterion=entropy, min_samples_leaf=93, bootstrap=False, max_features=14, min_samples_split=31 \n",
      "[CV]  max_depth=None, criterion=entropy, min_samples_leaf=93, bootstrap=False, max_features=14, min_samples_split=31, score=0.778175, total=   7.6s\n",
      "[CV] max_depth=None, criterion=entropy, min_samples_leaf=93, bootstrap=False, max_features=14, min_samples_split=31 \n",
      "[CV]  max_depth=None, criterion=entropy, min_samples_leaf=93, bootstrap=False, max_features=14, min_samples_split=31, score=0.778685, total=   7.2s\n",
      "[CV] max_depth=None, criterion=entropy, min_samples_leaf=93, bootstrap=False, max_features=14, min_samples_split=31 \n",
      "[CV]  max_depth=None, criterion=entropy, min_samples_leaf=93, bootstrap=False, max_features=14, min_samples_split=31, score=0.779451, total=   7.3s\n",
      "[CV] max_depth=None, criterion=entropy, min_samples_leaf=88, bootstrap=False, max_features=17, min_samples_split=65 \n",
      "[CV]  max_depth=None, criterion=entropy, min_samples_leaf=88, bootstrap=False, max_features=17, min_samples_split=65, score=0.777421, total=   8.6s\n",
      "[CV] max_depth=None, criterion=entropy, min_samples_leaf=88, bootstrap=False, max_features=17, min_samples_split=65 \n",
      "[CV]  max_depth=None, criterion=entropy, min_samples_leaf=88, bootstrap=False, max_features=17, min_samples_split=65, score=0.778594, total=   8.1s\n",
      "[CV] max_depth=None, criterion=entropy, min_samples_leaf=88, bootstrap=False, max_features=17, min_samples_split=65 \n",
      "[CV]  max_depth=None, criterion=entropy, min_samples_leaf=88, bootstrap=False, max_features=17, min_samples_split=65, score=0.781044, total=   8.2s\n",
      "[CV] max_depth=None, criterion=entropy, min_samples_leaf=88, bootstrap=False, max_features=17, min_samples_split=65 \n",
      "[CV]  max_depth=None, criterion=entropy, min_samples_leaf=88, bootstrap=False, max_features=17, min_samples_split=65, score=0.774971, total=   7.8s\n",
      "[CV] max_depth=None, criterion=entropy, min_samples_leaf=88, bootstrap=False, max_features=17, min_samples_split=65 \n",
      "[CV]  max_depth=None, criterion=entropy, min_samples_leaf=88, bootstrap=False, max_features=17, min_samples_split=65, score=0.777369, total=   7.8s\n",
      "[CV] max_depth=None, criterion=entropy, min_samples_leaf=88, bootstrap=False, max_features=17, min_samples_split=65 \n",
      "[CV]  max_depth=None, criterion=entropy, min_samples_leaf=88, bootstrap=False, max_features=17, min_samples_split=65, score=0.780126, total=   8.3s\n",
      "[CV] max_depth=None, criterion=entropy, min_samples_leaf=88, bootstrap=False, max_features=17, min_samples_split=65 \n",
      "[CV]  max_depth=None, criterion=entropy, min_samples_leaf=88, bootstrap=False, max_features=17, min_samples_split=65, score=0.781492, total=   8.0s\n",
      "[CV] max_depth=None, criterion=entropy, min_samples_leaf=88, bootstrap=False, max_features=17, min_samples_split=65 \n",
      "[CV]  max_depth=None, criterion=entropy, min_samples_leaf=88, bootstrap=False, max_features=17, min_samples_split=65, score=0.780165, total=   8.6s\n",
      "[CV] max_depth=None, criterion=entropy, min_samples_leaf=88, bootstrap=False, max_features=17, min_samples_split=65 \n",
      "[CV]  max_depth=None, criterion=entropy, min_samples_leaf=88, bootstrap=False, max_features=17, min_samples_split=65, score=0.778940, total=   8.6s\n",
      "[CV] max_depth=None, criterion=entropy, min_samples_leaf=88, bootstrap=False, max_features=17, min_samples_split=65 \n",
      "[CV]  max_depth=None, criterion=entropy, min_samples_leaf=88, bootstrap=False, max_features=17, min_samples_split=65, score=0.780880, total=   8.1s\n",
      "[CV] max_depth=None, criterion=gini, min_samples_leaf=64, bootstrap=True, max_features=17, min_samples_split=43 \n",
      "[CV]  max_depth=None, criterion=gini, min_samples_leaf=64, bootstrap=True, max_features=17, min_samples_split=43, score=0.776247, total=   5.8s\n",
      "[CV] max_depth=None, criterion=gini, min_samples_leaf=64, bootstrap=True, max_features=17, min_samples_split=43 \n",
      "[CV]  max_depth=None, criterion=gini, min_samples_leaf=64, bootstrap=True, max_features=17, min_samples_split=43, score=0.780942, total=   5.5s\n",
      "[CV] max_depth=None, criterion=gini, min_samples_leaf=64, bootstrap=True, max_features=17, min_samples_split=43 \n",
      "[CV]  max_depth=None, criterion=gini, min_samples_leaf=64, bootstrap=True, max_features=17, min_samples_split=43, score=0.780687, total=   5.5s\n",
      "[CV] max_depth=None, criterion=gini, min_samples_leaf=64, bootstrap=True, max_features=17, min_samples_split=43 \n",
      "[CV]  max_depth=None, criterion=gini, min_samples_leaf=64, bootstrap=True, max_features=17, min_samples_split=43, score=0.775073, total=   6.0s\n",
      "[CV] max_depth=None, criterion=gini, min_samples_leaf=64, bootstrap=True, max_features=17, min_samples_split=43 \n",
      "[CV]  max_depth=None, criterion=gini, min_samples_leaf=64, bootstrap=True, max_features=17, min_samples_split=43, score=0.778237, total=   5.8s\n",
      "[CV] max_depth=None, criterion=gini, min_samples_leaf=64, bootstrap=True, max_features=17, min_samples_split=43 \n",
      "[CV]  max_depth=None, criterion=gini, min_samples_leaf=64, bootstrap=True, max_features=17, min_samples_split=43, score=0.778850, total=   5.6s\n",
      "[CV] max_depth=None, criterion=gini, min_samples_leaf=64, bootstrap=True, max_features=17, min_samples_split=43 \n",
      "[CV]  max_depth=None, criterion=gini, min_samples_leaf=64, bootstrap=True, max_features=17, min_samples_split=43, score=0.781492, total=   5.6s\n",
      "[CV] max_depth=None, criterion=gini, min_samples_leaf=64, bootstrap=True, max_features=17, min_samples_split=43 \n",
      "[CV]  max_depth=None, criterion=gini, min_samples_leaf=64, bootstrap=True, max_features=17, min_samples_split=43, score=0.778379, total=   5.6s\n",
      "[CV] max_depth=None, criterion=gini, min_samples_leaf=64, bootstrap=True, max_features=17, min_samples_split=43 \n",
      "[CV]  max_depth=None, criterion=gini, min_samples_leaf=64, bootstrap=True, max_features=17, min_samples_split=43, score=0.778736, total=   5.7s\n",
      "[CV] max_depth=None, criterion=gini, min_samples_leaf=64, bootstrap=True, max_features=17, min_samples_split=43 \n",
      "[CV]  max_depth=None, criterion=gini, min_samples_leaf=64, bootstrap=True, max_features=17, min_samples_split=43, score=0.780063, total=   5.6s\n",
      "[CV] max_depth=None, criterion=entropy, min_samples_leaf=29, bootstrap=True, max_features=19, min_samples_split=55 \n",
      "[CV]  max_depth=None, criterion=entropy, min_samples_leaf=29, bootstrap=True, max_features=19, min_samples_split=55, score=0.775277, total=   7.2s\n",
      "[CV] max_depth=None, criterion=entropy, min_samples_leaf=29, bootstrap=True, max_features=19, min_samples_split=55 \n",
      "[CV]  max_depth=None, criterion=entropy, min_samples_leaf=29, bootstrap=True, max_features=19, min_samples_split=55, score=0.779666, total=   7.0s\n",
      "[CV] max_depth=None, criterion=entropy, min_samples_leaf=29, bootstrap=True, max_features=19, min_samples_split=55 \n",
      "[CV]  max_depth=None, criterion=entropy, min_samples_leaf=29, bootstrap=True, max_features=19, min_samples_split=55, score=0.782116, total=   7.3s\n",
      "[CV] max_depth=None, criterion=entropy, min_samples_leaf=29, bootstrap=True, max_features=19, min_samples_split=55 \n",
      "[CV]  max_depth=None, criterion=entropy, min_samples_leaf=29, bootstrap=True, max_features=19, min_samples_split=55, score=0.774766, total=   7.7s\n",
      "[CV] max_depth=None, criterion=entropy, min_samples_leaf=29, bootstrap=True, max_features=19, min_samples_split=55 \n",
      "[CV]  max_depth=None, criterion=entropy, min_samples_leaf=29, bootstrap=True, max_features=19, min_samples_split=55, score=0.777676, total=   7.4s\n",
      "[CV] max_depth=None, criterion=entropy, min_samples_leaf=29, bootstrap=True, max_features=19, min_samples_split=55 \n",
      "[CV]  max_depth=None, criterion=entropy, min_samples_leaf=29, bootstrap=True, max_features=19, min_samples_split=55, score=0.781350, total=   6.9s\n",
      "[CV] max_depth=None, criterion=entropy, min_samples_leaf=29, bootstrap=True, max_features=19, min_samples_split=55 \n",
      "[CV]  max_depth=None, criterion=entropy, min_samples_leaf=29, bootstrap=True, max_features=19, min_samples_split=55, score=0.782922, total=   6.8s\n",
      "[CV] max_depth=None, criterion=entropy, min_samples_leaf=29, bootstrap=True, max_features=19, min_samples_split=55 \n",
      "[CV]  max_depth=None, criterion=entropy, min_samples_leaf=29, bootstrap=True, max_features=19, min_samples_split=55, score=0.780778, total=   7.2s\n",
      "[CV] max_depth=None, criterion=entropy, min_samples_leaf=29, bootstrap=True, max_features=19, min_samples_split=55 \n",
      "[CV]  max_depth=None, criterion=entropy, min_samples_leaf=29, bootstrap=True, max_features=19, min_samples_split=55, score=0.777562, total=   6.9s\n",
      "[CV] max_depth=None, criterion=entropy, min_samples_leaf=29, bootstrap=True, max_features=19, min_samples_split=55 \n",
      "[CV]  max_depth=None, criterion=entropy, min_samples_leaf=29, bootstrap=True, max_features=19, min_samples_split=55, score=0.780778, total=   7.1s\n",
      "[CV] max_depth=3, criterion=entropy, min_samples_leaf=96, bootstrap=True, max_features=10, min_samples_split=31 \n",
      "[CV]  max_depth=3, criterion=entropy, min_samples_leaf=96, bootstrap=True, max_features=10, min_samples_split=31, score=0.759455, total=   1.0s\n",
      "[CV] max_depth=3, criterion=entropy, min_samples_leaf=96, bootstrap=True, max_features=10, min_samples_split=31 \n",
      "[CV]  max_depth=3, criterion=entropy, min_samples_leaf=96, bootstrap=True, max_features=10, min_samples_split=31, score=0.759455, total=   1.1s\n",
      "[CV] max_depth=3, criterion=entropy, min_samples_leaf=96, bootstrap=True, max_features=10, min_samples_split=31 \n",
      "[CV]  max_depth=3, criterion=entropy, min_samples_leaf=96, bootstrap=True, max_features=10, min_samples_split=31, score=0.759455, total=   1.0s\n",
      "[CV] max_depth=3, criterion=entropy, min_samples_leaf=96, bootstrap=True, max_features=10, min_samples_split=31 \n",
      "[CV]  max_depth=3, criterion=entropy, min_samples_leaf=96, bootstrap=True, max_features=10, min_samples_split=31, score=0.759455, total=   1.0s\n",
      "[CV] max_depth=3, criterion=entropy, min_samples_leaf=96, bootstrap=True, max_features=10, min_samples_split=31 \n",
      "[CV]  max_depth=3, criterion=entropy, min_samples_leaf=96, bootstrap=True, max_features=10, min_samples_split=31, score=0.759455, total=   1.0s\n",
      "[CV] max_depth=3, criterion=entropy, min_samples_leaf=96, bootstrap=True, max_features=10, min_samples_split=31 \n",
      "[CV]  max_depth=3, criterion=entropy, min_samples_leaf=96, bootstrap=True, max_features=10, min_samples_split=31, score=0.759455, total=   0.9s\n",
      "[CV] max_depth=3, criterion=entropy, min_samples_leaf=96, bootstrap=True, max_features=10, min_samples_split=31 \n",
      "[CV]  max_depth=3, criterion=entropy, min_samples_leaf=96, bootstrap=True, max_features=10, min_samples_split=31, score=0.759494, total=   1.0s\n",
      "[CV] max_depth=3, criterion=entropy, min_samples_leaf=96, bootstrap=True, max_features=10, min_samples_split=31 \n",
      "[CV]  max_depth=3, criterion=entropy, min_samples_leaf=96, bootstrap=True, max_features=10, min_samples_split=31, score=0.759494, total=   1.0s\n",
      "[CV] max_depth=3, criterion=entropy, min_samples_leaf=96, bootstrap=True, max_features=10, min_samples_split=31 \n",
      "[CV]  max_depth=3, criterion=entropy, min_samples_leaf=96, bootstrap=True, max_features=10, min_samples_split=31, score=0.759494, total=   1.0s\n",
      "[CV] max_depth=3, criterion=entropy, min_samples_leaf=96, bootstrap=True, max_features=10, min_samples_split=31 \n",
      "[CV]  max_depth=3, criterion=entropy, min_samples_leaf=96, bootstrap=True, max_features=10, min_samples_split=31, score=0.759494, total=   1.0s\n",
      "[CV] max_depth=None, criterion=entropy, min_samples_leaf=95, bootstrap=False, max_features=15, min_samples_split=85 \n",
      "[CV]  max_depth=None, criterion=entropy, min_samples_leaf=95, bootstrap=False, max_features=15, min_samples_split=85, score=0.776808, total=   7.5s\n",
      "[CV] max_depth=None, criterion=entropy, min_samples_leaf=95, bootstrap=False, max_features=15, min_samples_split=85 \n",
      "[CV]  max_depth=None, criterion=entropy, min_samples_leaf=95, bootstrap=False, max_features=15, min_samples_split=85, score=0.778645, total=   8.1s\n",
      "[CV] max_depth=None, criterion=entropy, min_samples_leaf=95, bootstrap=False, max_features=15, min_samples_split=85 \n",
      "[CV]  max_depth=None, criterion=entropy, min_samples_leaf=95, bootstrap=False, max_features=15, min_samples_split=85, score=0.780177, total=   8.1s\n",
      "[CV] max_depth=None, criterion=entropy, min_samples_leaf=95, bootstrap=False, max_features=15, min_samples_split=85 \n",
      "[CV]  max_depth=None, criterion=entropy, min_samples_leaf=95, bootstrap=False, max_features=15, min_samples_split=85, score=0.776042, total=   7.3s\n",
      "[CV] max_depth=None, criterion=entropy, min_samples_leaf=95, bootstrap=False, max_features=15, min_samples_split=85 \n",
      "[CV]  max_depth=None, criterion=entropy, min_samples_leaf=95, bootstrap=False, max_features=15, min_samples_split=85, score=0.777727, total=   7.6s\n",
      "[CV] max_depth=None, criterion=entropy, min_samples_leaf=95, bootstrap=False, max_features=15, min_samples_split=85 \n",
      "[CV]  max_depth=None, criterion=entropy, min_samples_leaf=95, bootstrap=False, max_features=15, min_samples_split=85, score=0.780381, total=   8.3s\n",
      "[CV] max_depth=None, criterion=entropy, min_samples_leaf=95, bootstrap=False, max_features=15, min_samples_split=85 \n",
      "[CV]  max_depth=None, criterion=entropy, min_samples_leaf=95, bootstrap=False, max_features=15, min_samples_split=85, score=0.781646, total=   7.7s\n",
      "[CV] max_depth=None, criterion=entropy, min_samples_leaf=95, bootstrap=False, max_features=15, min_samples_split=85 \n",
      "[CV]  max_depth=None, criterion=entropy, min_samples_leaf=95, bootstrap=False, max_features=15, min_samples_split=85, score=0.778481, total=   7.4s\n",
      "[CV] max_depth=None, criterion=entropy, min_samples_leaf=95, bootstrap=False, max_features=15, min_samples_split=85 \n",
      "[CV]  max_depth=None, criterion=entropy, min_samples_leaf=95, bootstrap=False, max_features=15, min_samples_split=85, score=0.779042, total=   7.7s\n",
      "[CV] max_depth=None, criterion=entropy, min_samples_leaf=95, bootstrap=False, max_features=15, min_samples_split=85 \n",
      "[CV]  max_depth=None, criterion=entropy, min_samples_leaf=95, bootstrap=False, max_features=15, min_samples_split=85, score=0.779145, total=   8.0s\n",
      "[CV] max_depth=3, criterion=gini, min_samples_leaf=65, bootstrap=True, max_features=10, min_samples_split=69 \n",
      "[CV]  max_depth=3, criterion=gini, min_samples_leaf=65, bootstrap=True, max_features=10, min_samples_split=69, score=0.759455, total=   1.0s\n",
      "[CV] max_depth=3, criterion=gini, min_samples_leaf=65, bootstrap=True, max_features=10, min_samples_split=69 \n",
      "[CV]  max_depth=3, criterion=gini, min_samples_leaf=65, bootstrap=True, max_features=10, min_samples_split=69, score=0.759455, total=   1.0s\n",
      "[CV] max_depth=3, criterion=gini, min_samples_leaf=65, bootstrap=True, max_features=10, min_samples_split=69 \n",
      "[CV]  max_depth=3, criterion=gini, min_samples_leaf=65, bootstrap=True, max_features=10, min_samples_split=69, score=0.759455, total=   1.0s\n",
      "[CV] max_depth=3, criterion=gini, min_samples_leaf=65, bootstrap=True, max_features=10, min_samples_split=69 \n",
      "[CV]  max_depth=3, criterion=gini, min_samples_leaf=65, bootstrap=True, max_features=10, min_samples_split=69, score=0.759455, total=   1.1s\n",
      "[CV] max_depth=3, criterion=gini, min_samples_leaf=65, bootstrap=True, max_features=10, min_samples_split=69 \n",
      "[CV]  max_depth=3, criterion=gini, min_samples_leaf=65, bootstrap=True, max_features=10, min_samples_split=69, score=0.759455, total=   1.2s\n",
      "[CV] max_depth=3, criterion=gini, min_samples_leaf=65, bootstrap=True, max_features=10, min_samples_split=69 \n",
      "[CV]  max_depth=3, criterion=gini, min_samples_leaf=65, bootstrap=True, max_features=10, min_samples_split=69, score=0.759455, total=   1.0s\n",
      "[CV] max_depth=3, criterion=gini, min_samples_leaf=65, bootstrap=True, max_features=10, min_samples_split=69 \n",
      "[CV]  max_depth=3, criterion=gini, min_samples_leaf=65, bootstrap=True, max_features=10, min_samples_split=69, score=0.759494, total=   1.0s\n",
      "[CV] max_depth=3, criterion=gini, min_samples_leaf=65, bootstrap=True, max_features=10, min_samples_split=69 \n",
      "[CV]  max_depth=3, criterion=gini, min_samples_leaf=65, bootstrap=True, max_features=10, min_samples_split=69, score=0.759494, total=   1.0s\n",
      "[CV] max_depth=3, criterion=gini, min_samples_leaf=65, bootstrap=True, max_features=10, min_samples_split=69 \n",
      "[CV]  max_depth=3, criterion=gini, min_samples_leaf=65, bootstrap=True, max_features=10, min_samples_split=69, score=0.759494, total=   1.0s\n",
      "[CV] max_depth=3, criterion=gini, min_samples_leaf=65, bootstrap=True, max_features=10, min_samples_split=69 \n",
      "[CV]  max_depth=3, criterion=gini, min_samples_leaf=65, bootstrap=True, max_features=10, min_samples_split=69, score=0.759494, total=   1.0s\n"
     ]
    },
    {
     "name": "stderr",
     "output_type": "stream",
     "text": [
      "[Parallel(n_jobs=1)]: Done 100 out of 100 | elapsed:  9.3min finished\n"
     ]
    },
    {
     "data": {
      "text/plain": [
       "RandomizedSearchCV(cv=10, error_score='raise',\n",
       "          estimator=RandomForestClassifier(bootstrap=True, class_weight=None, criterion='gini',\n",
       "            max_depth=None, max_features='auto', max_leaf_nodes=None,\n",
       "            min_impurity_split=1e-07, min_samples_leaf=1,\n",
       "            min_samples_split=2, min_weight_fraction_leaf=0.0,\n",
       "            n_estimators=10, n_jobs=1, oob_score=False, random_state=None,\n",
       "            verbose=0, warm_start=False),\n",
       "          fit_params={}, iid=True, n_iter=10, n_jobs=1,\n",
       "          param_distributions={'max_depth': [3, None], 'criterion': ['gini', 'entropy'], 'min_samples_leaf': <scipy.stats._distn_infrastructure.rv_frozen object at 0x0000016D02CDEB38>, 'bootstrap': [True, False], 'max_features': <scipy.stats._distn_infrastructure.rv_frozen object at 0x0000016D067C32B0>, 'min_samples_split': <scipy.stats._distn_infrastructure.rv_frozen object at 0x0000016D02CDEF98>},\n",
       "          pre_dispatch='2*n_jobs', random_state=None, refit=True,\n",
       "          return_train_score=True, scoring=None, verbose=10)"
      ]
     },
     "execution_count": 200,
     "metadata": {},
     "output_type": "execute_result"
    }
   ],
   "source": [
    "clf.fit(X_train,y_train)"
   ]
  },
  {
   "cell_type": "code",
   "execution_count": 201,
   "metadata": {
    "collapsed": false
   },
   "outputs": [
    {
     "data": {
      "text/plain": [
       "{'bootstrap': False,\n",
       " 'criterion': 'entropy',\n",
       " 'max_depth': None,\n",
       " 'max_features': 14,\n",
       " 'min_samples_leaf': 64,\n",
       " 'min_samples_split': 28}"
      ]
     },
     "execution_count": 201,
     "metadata": {},
     "output_type": "execute_result"
    }
   ],
   "source": [
    "clf.best_params_"
   ]
  },
  {
   "cell_type": "code",
   "execution_count": 203,
   "metadata": {
    "collapsed": false
   },
   "outputs": [
    {
     "data": {
      "text/plain": [
       "0.77964639710911265"
      ]
     },
     "execution_count": 203,
     "metadata": {},
     "output_type": "execute_result"
    }
   ],
   "source": [
    "clf.best_score_"
   ]
  },
  {
   "cell_type": "code",
   "execution_count": 202,
   "metadata": {
    "collapsed": false
   },
   "outputs": [
    {
     "data": {
      "text/plain": [
       "0.77874840675226165"
      ]
     },
     "execution_count": 202,
     "metadata": {},
     "output_type": "execute_result"
    }
   ],
   "source": [
    "clf.score(X_test,y_test)"
   ]
  },
  {
   "cell_type": "code",
   "execution_count": 166,
   "metadata": {
    "collapsed": false
   },
   "outputs": [
    {
     "data": {
      "text/plain": [
       "{'bootstrap': True,\n",
       " 'criterion': 'entropy',\n",
       " 'max_depth': None,\n",
       " 'max_features': 16,\n",
       " 'min_samples_leaf': 39,\n",
       " 'min_samples_split': 90}"
      ]
     },
     "execution_count": 166,
     "metadata": {},
     "output_type": "execute_result"
    }
   ],
   "source": [
    "clf.best_params_"
   ]
  },
  {
   "cell_type": "code",
   "execution_count": 208,
   "metadata": {
    "collapsed": true
   },
   "outputs": [],
   "source": [
    "winning_rfc = RandomForestClassifier(bootstrap= True,\n",
    " criterion='entropy',\n",
    " max_depth= None,\n",
    " max_features= 16,\n",
    " min_samples_leaf= 39,\n",
    " min_samples_split= 90)"
   ]
  },
  {
   "cell_type": "code",
   "execution_count": 209,
   "metadata": {
    "collapsed": false
   },
   "outputs": [
    {
     "data": {
      "text/plain": [
       "RandomForestClassifier(bootstrap=True, class_weight=None, criterion='entropy',\n",
       "            max_depth=None, max_features=16, max_leaf_nodes=None,\n",
       "            min_impurity_split=1e-07, min_samples_leaf=39,\n",
       "            min_samples_split=90, min_weight_fraction_leaf=0.0,\n",
       "            n_estimators=10, n_jobs=1, oob_score=False, random_state=None,\n",
       "            verbose=0, warm_start=False)"
      ]
     },
     "execution_count": 209,
     "metadata": {},
     "output_type": "execute_result"
    }
   ],
   "source": [
    "winning_rfc.fit(X_train,y_train)"
   ]
  },
  {
   "cell_type": "code",
   "execution_count": 210,
   "metadata": {
    "collapsed": false
   },
   "outputs": [
    {
     "data": {
      "text/plain": [
       "0.78048932135418281"
      ]
     },
     "execution_count": 210,
     "metadata": {},
     "output_type": "execute_result"
    }
   ],
   "source": [
    "winning_rfc.score(X_test,y_test)"
   ]
  },
  {
   "cell_type": "markdown",
   "metadata": {},
   "source": [
    "# ROC"
   ]
  },
  {
   "cell_type": "code",
   "execution_count": 211,
   "metadata": {
    "collapsed": false
   },
   "outputs": [],
   "source": [
    "from sklearn.metrics import roc_curve, auc, precision_recall_curve\n",
    "y_test_classes = {cls:[True if c == cls else False for c in y_test ] for cls in winning_rfc.classes_.tolist()}\n",
    "rfc_result = winning_rfc.predict_proba(X_test)\n",
    "rfc_classes = winning_rfc.classes_.tolist()\n",
    "y_predicted_probs = {cls:[item[rfc_classes.index(cls)] for item in rfc_result] for cls in rfc_classes}"
   ]
  },
  {
   "cell_type": "code",
   "execution_count": 212,
   "metadata": {
    "collapsed": true
   },
   "outputs": [],
   "source": [
    "fpr = {cls:[] for cls in rfc_classes}\n",
    "tpr = {cls:[] for cls in rfc_classes}"
   ]
  },
  {
   "cell_type": "code",
   "execution_count": 213,
   "metadata": {
    "collapsed": true
   },
   "outputs": [],
   "source": [
    "pre = {cls:[] for cls in rfc_classes}\n",
    "rec = {cls:[] for cls in rfc_classes}"
   ]
  },
  {
   "cell_type": "code",
   "execution_count": 214,
   "metadata": {
    "collapsed": true
   },
   "outputs": [],
   "source": [
    "for cls in rfc_classes:\n",
    "    data = roc_curve(y_test_classes[cls]*1,y_predicted_probs[cls])\n",
    "    fpr[cls] = data[0]\n",
    "    tpr[cls] = data[1]\n",
    "    data = precision_recall_curve(y_test_classes[cls]*1, y_predicted_probs[cls])\n",
    "    pre[cls] = data[0]\n",
    "    rec[cls] = data[1]"
   ]
  },
  {
   "cell_type": "code",
   "execution_count": 226,
   "metadata": {
    "collapsed": false
   },
   "outputs": [
    {
     "data": {
      "image/png": "[encoded data removed]",
      "text/plain": [
       "<matplotlib.figure.Figure at 0x16ce437c278>"
      ]
     },
     "metadata": {},
     "output_type": "display_data"
    }
   ],
   "source": [
    "colors = {0:'red', 1:'blue'}\n",
    "sns.set_context('talk')\n",
    "plt.figure(figsize=(12,8))\n",
    "lw = 2\n",
    "for cls in rfc_classes:\n",
    "    plt.plot(fpr[cls],tpr[cls], color=colors[cls],lw=lw,label=str(cls) + ' ROC curve (area = %0.2f)' % auc(fpr[cls],tpr[cls]))\n",
    "plt.plot([0, 1], [0, 1], color='navy', lw=lw, linestyle='--')\n",
    "plt.xlim([0.0, 1.0])\n",
    "plt.ylim([0.0, 1.05])\n",
    "plt.xlabel('False Positive Rate')\n",
    "plt.ylabel('True Positive Rate')\n",
    "plt.title('NFL Play Sentiment RF Classifier - ROC')\n",
    "plt.legend(loc=\"lower right\")\n",
    "plt.savefig('ROC')\n",
    "plt.show()"
   ]
  },
  {
   "cell_type": "code",
   "execution_count": 225,
   "metadata": {
    "collapsed": false
   },
   "outputs": [
    {
     "data": {
      "image/png": "[encoded data removed]",
      "text/plain": [
       "<matplotlib.figure.Figure at 0x16ce436df98>"
      ]
     },
     "metadata": {},
     "output_type": "display_data"
    }
   ],
   "source": [
    "colors = {0:'red', 1:'blue'}\n",
    "sns.set_context('talk')\n",
    "plt.figure(figsize=(12,8))\n",
    "lw = 2\n",
    "for cls in rfc_classes:\n",
    "    plt.plot(pre[cls],rec[cls], color=colors[cls],lw=lw,label=str(cls) + ' PR curve (area = %0.2f)' % auc(rec[cls],pre[cls]))\n",
    "#plt.plot([0, 1], [0, 1], color='navy', lw=lw, linestyle='--')\n",
    "#plt.xlim([0.0, 1.0])\n",
    "#plt.ylim([0.0, 1.05])\n",
    "plt.xlabel('False Positive Rate')\n",
    "plt.ylabel('True Positive Rate')\n",
    "plt.title('NFL PlayType RF Classifier - PR')\n",
    "plt.legend(loc=\"lower left\")\n",
    "plt.show()"
   ]
  },
  {
   "cell_type": "code",
   "execution_count": null,
   "metadata": {
    "collapsed": true
   },
   "outputs": [],
   "source": []
  }
 ],
 "metadata": {
  "kernelspec": {
   "display_name": "Python 3",
   "language": "python",
   "name": "python3"
  },
  "language_info": {
   "codemirror_mode": {
    "name": "ipython",
    "version": 3
   },
   "file_extension": ".py",
   "mimetype": "text/x-python",
   "name": "python",
   "nbconvert_exporter": "python",
   "pygments_lexer": "ipython3",
   "version": "3.5.1"
  },
  "widgets": {
   "state": {},
   "version": "1.1.2"
  }
 },
 "nbformat": 4,
 "nbformat_minor": 2
}
