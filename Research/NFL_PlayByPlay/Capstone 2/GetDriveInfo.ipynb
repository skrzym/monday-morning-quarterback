{
 "cells": [
  {
   "cell_type": "code",
   "execution_count": 15,
   "metadata": {
    "collapsed": true
   },
   "outputs": [],
   "source": [
    "import pandas as pd\n",
    "import numpy as np\n",
    "import warnings\n",
    "from collections import Counter\n",
    "from collections import defaultdict\n",
    "import nflgame"
   ]
  },
  {
   "cell_type": "code",
   "execution_count": 16,
   "metadata": {
    "collapsed": true
   },
   "outputs": [],
   "source": [
    "seasons = [2009, 2010, 2011, 2012, 2013, 2014, 2015, 2016]\n",
    "kinds = ['REG', 'POST']"
   ]
  },
  {
   "cell_type": "code",
   "execution_count": 18,
   "metadata": {
    "collapsed": false
   },
   "outputs": [
    {
     "name": "stdout",
     "output_type": "stream",
     "text": [
      "(2009, 'REG', 'gathering...')\n",
      "('plays found = ', '44593')\n",
      "(2009, 'POST', 'gathering...')\n",
      "('plays found = ', '1927')\n",
      "(2010, 'REG', 'gathering...')\n",
      "('plays found = ', '44748')\n",
      "(2010, 'POST', 'gathering...')\n",
      "('plays found = ', '1902')\n",
      "(2011, 'REG', 'gathering...')\n",
      "('plays found = ', '44986')\n",
      "(2011, 'POST', 'gathering...')\n",
      "('plays found = ', '1977')\n",
      "(2012, 'REG', 'gathering...')\n",
      "('plays found = ', '45422')\n",
      "(2012, 'POST', 'gathering...')\n",
      "('plays found = ', '1948')\n",
      "(2013, 'REG', 'gathering...')\n",
      "('plays found = ', '45253')\n",
      "(2013, 'POST', 'gathering...')\n",
      "('plays found = ', '1855')\n",
      "(2014, 'REG', 'gathering...')\n",
      "('plays found = ', '45501')\n",
      "(2014, 'POST', 'gathering...')\n",
      "('plays found = ', '1955')\n",
      "(2015, 'REG', 'gathering...')\n",
      "('plays found = ', '46127')\n",
      "(2015, 'POST', 'gathering...')\n",
      "('plays found = ', '885')\n",
      "(2016, 'REG', 'gathering...')\n",
      "('plays found = ', '45735')\n",
      "(2016, 'POST', 'gathering...')\n",
      "(2016, 'POST', 'FAILURE!')\n"
     ]
    }
   ],
   "source": [
    "api_data = []\n",
    "gid = None\n",
    "did = None\n",
    "dre = None\n",
    "for season in seasons:\n",
    "    for kind in kinds:\n",
    "        print(season,kind,'gathering...')\n",
    "        try:\n",
    "            games = nflgame.games(season, kind=kind)\n",
    "            plays = nflgame.combine_plays(games)\n",
    "            plist = [play for play in plays]\n",
    "            print('plays found = ', str(len(plist)))\n",
    "            for p in plist:\n",
    "                game_id = p.drive.game.eid\n",
    "                drive_id = p.drive.drive_num\n",
    "                drive_res = p.drive.result\n",
    "                if gid != game_id: gid = game_id\n",
    "                if dre != drive_res: dre = drive_res\n",
    "                if did != drive_id:\n",
    "                    did = drive_id\n",
    "                    api_data.append({'gid':gid,'did':did,'dre':dre})\n",
    "        except:\n",
    "            print(season, kind, 'FAILURE!')"
   ]
  },
  {
   "cell_type": "code",
   "execution_count": 21,
   "metadata": {
    "collapsed": false
   },
   "outputs": [],
   "source": [
    "df = pd.DataFrame.from_records(api_data)"
   ]
  },
  {
   "cell_type": "code",
   "execution_count": 27,
   "metadata": {
    "collapsed": false
   },
   "outputs": [
    {
     "data": {
      "text/plain": [
       "[u'Punt',\n",
       " u'Missed FG',\n",
       " u'Interception',\n",
       " u'Touchdown',\n",
       " u'Fumble',\n",
       " u'Field Goal',\n",
       " u'End of Half',\n",
       " u'End of Game',\n",
       " u'Blocked Punt',\n",
       " u'Downs',\n",
       " u'Blocked FG',\n",
       " u'Safety',\n",
       " u'Fumble, Safety',\n",
       " u'Blocked Punt, Downs',\n",
       " u'Blocked FG, Downs',\n",
       " u'UNKNOWN',\n",
       " u'']"
      ]
     },
     "execution_count": 27,
     "metadata": {},
     "output_type": "execute_result"
    }
   ],
   "source": [
    "df.dre.unique().tolist()"
   ]
  },
  {
   "cell_type": "code",
   "execution_count": 28,
   "metadata": {
    "collapsed": true
   },
   "outputs": [],
   "source": [
    "df.to_csv('extract.csv')"
   ]
  },
  {
   "cell_type": "code",
   "execution_count": null,
   "metadata": {
    "collapsed": true
   },
   "outputs": [],
   "source": []
  }
 ],
 "metadata": {
  "kernelspec": {
   "display_name": "Python 2",
   "language": "python",
   "name": "python2"
  },
  "language_info": {
   "codemirror_mode": {
    "name": "ipython",
    "version": 2
   },
   "file_extension": ".py",
   "mimetype": "text/x-python",
   "name": "python",
   "nbconvert_exporter": "python",
   "pygments_lexer": "ipython2",
   "version": "2.7.11"
  },
  "widgets": {
   "state": {},
   "version": "1.1.2"
  }
 },
 "nbformat": 4,
 "nbformat_minor": 2
}
