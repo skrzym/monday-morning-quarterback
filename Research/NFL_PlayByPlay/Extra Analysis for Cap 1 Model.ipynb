{
 "cells": [
  {
   "cell_type": "markdown",
   "metadata": {},
   "source": [
    "## Using TPOT Module for Model Selection and Hyperparameter Tunning"
   ]
  },
  {
   "cell_type": "code",
   "execution_count": null,
   "metadata": {
    "collapsed": true
   },
   "outputs": [],
   "source": [
    "convert = {'Run':1, 'Pass':2, 'Punt':3, 'Field Goal':4, 'QB Kneel':5}\n",
    "y_train_array = np.array(y_train)\n",
    "y_test_array = np.array(y_test)\n",
    "\n",
    "y_t = np.empty_like(y_train_array)\n",
    "y_te = np.empty_like(y_test_array)\n",
    "\n",
    "for index in range(len(y_t)):\n",
    "    y_t[index] = convert[y_train_array[index]]\n",
    "\n",
    "for index in range(len(y_te)):\n",
    "    y_te[index] = convert[y_test_array[index]]\n",
    "    \n"
   ]
  },
  {
   "cell_type": "code",
   "execution_count": null,
   "metadata": {
    "collapsed": true
   },
   "outputs": [],
   "source": [
    "from tpot import TPOTClassifier\n",
    "from sklearn.datasets import load_digits\n",
    "from sklearn.model_selection import train_test_split\n",
    "\n",
    "y_t = y_train\n",
    "\n",
    "tpot = TPOTClassifier(generations=2, population_size=1, verbosity=2, cv=skf.split(np.array(X_train), y_t))\n",
    "tpot.fit(np.array(X_train), y_t)\n",
    "print(tpot.score(np.array(X_test), y_te))\n",
    "tpot.export('tpot_NFL_pipeline_2.py')"
   ]
  },
  {
   "cell_type": "code",
   "execution_count": null,
   "metadata": {
    "collapsed": true
   },
   "outputs": [],
   "source": [
    "m = nfl_model.build_extra_trees_model(X_train, y_train, \n",
    "                                      bootstrap=True, \n",
    "                                      max_features=0.9, \n",
    "                                      min_samples_leaf=14, \n",
    "                                      min_samples_split=9, \n",
    "                                      n_estimators=100)"
   ]
  },
  {
   "cell_type": "code",
   "execution_count": null,
   "metadata": {
    "collapsed": true
   },
   "outputs": [],
   "source": [
    "m.score(X_test,y_test)"
   ]
  }
 ],
 "metadata": {
  "kernelspec": {
   "display_name": "Python 3",
   "language": "python",
   "name": "python3"
  },
  "language_info": {
   "codemirror_mode": {
    "name": "ipython",
    "version": 3
   },
   "file_extension": ".py",
   "mimetype": "text/x-python",
   "name": "python",
   "nbconvert_exporter": "python",
   "pygments_lexer": "ipython3",
   "version": "3.5.1"
  },
  "widgets": {
   "state": {},
   "version": "1.1.2"
  }
 },
 "nbformat": 4,
 "nbformat_minor": 2
}
