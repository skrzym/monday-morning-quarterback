{
 "cells": [
  {
   "cell_type": "code",
   "execution_count": 17,
   "metadata": {
    "collapsed": false
   },
   "outputs": [],
   "source": [
    "library(nflscrapR)\n",
    "\n",
    "po_season_play_by_play <- function(Season) {\n",
    "    # Google R style format\n",
    "    # Below the function put together the proper URLs for each playoff game in each \n",
    "    # season and runs the game_play_by_play function across the entire season\n",
    "    game_ids <- extracting_gameids(Season, TRUE)\n",
    "    pbp_data_unformatted <- lapply(game_ids, FUN = game_play_by_play)\n",
    "    df_pbp_data <- dplyr::bind_rows(pbp_data_unformatted) %>% \n",
    "                   dplyr::mutate(Season = Season)\n",
    "    # Output #\n",
    "    df_pbp_data\n",
    "}\n",
    "save_all_seasons_pbp <- function(){\n",
    "    for (season in c(2009,2010,2011,2012,2013,2014,2015,2016)){\n",
    "        print(paste('Extracting Regular',season,'season'))\n",
    "        rs <- season_play_by_play(season)\n",
    "        write.csv(rs,paste('rs_pbp_',season,'.csv'))\n",
    "        \n",
    "        print(paste('Extracting Playoffs',season,'season'))\n",
    "        po <- po_season_play_by_play(season)\n",
    "        write.csv(po,paste('po_pbp_',season,'.csv'))\n",
    "    }\n",
    "}"
   ]
  },
  {
   "cell_type": "code",
   "execution_count": null,
   "metadata": {
    "collapsed": false
   },
   "outputs": [],
   "source": [
    "save_all_seasons_pbp()"
   ]
  },
  {
   "cell_type": "code",
   "execution_count": null,
   "metadata": {
    "collapsed": true
   },
   "outputs": [],
   "source": []
  }
 ],
 "metadata": {
  "kernelspec": {
   "display_name": "R",
   "language": "R",
   "name": "ir"
  },
  "language_info": {
   "codemirror_mode": "r",
   "file_extension": ".r",
   "mimetype": "text/x-r-source",
   "name": "R",
   "pygments_lexer": "r",
   "version": "3.3.2"
  },
  "widgets": {
   "state": {},
   "version": "1.1.2"
  }
 },
 "nbformat": 4,
 "nbformat_minor": 0
}
