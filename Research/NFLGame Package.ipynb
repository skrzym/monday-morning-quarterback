{
 "cells": [
  {
   "cell_type": "code",
   "execution_count": 144,
   "metadata": {
    "collapsed": false
   },
   "outputs": [],
   "source": [
    "import pandas as pd\n",
    "import numpy as np\n",
    "import nflgame\n",
    "from datetime import datetime\n",
    "from pprint import pprint\n",
    "import copy\n",
    "from collections import Counter\n",
    "import re"
   ]
  },
  {
   "cell_type": "code",
   "execution_count": 3,
   "metadata": {
    "collapsed": false,
    "scrolled": true
   },
   "outputs": [],
   "source": [
    "def play_type_parsing(item):\n",
    "    note = item['note']\n",
    "    desc = item['desc']\n",
    "    if 'TWO-POINT CONVERSION ATTEMPT' in desc:\n",
    "        return 'two-point'\n",
    "    if ' kneel ' in desc:\n",
    "        return 'kneel'\n",
    "    if ' field goal is ' in desc:\n",
    "        return 'fg'\n",
    "    if ' sacked at ' in desc:\n",
    "        return 'sacked'\n",
    "    if ' pass ' in desc:\n",
    "        return 'pass'\n",
    "    if ' punts ' in desc:\n",
    "        return 'punt'\n",
    "    if ' punt ' in desc:\n",
    "        return 'punt'\n",
    "    if 'Two-Minute Warning' in desc:\n",
    "        return 'misc'\n",
    "    if 'Timeout #' in desc:\n",
    "        return 'misc'\n",
    "    if 'END' == desc.split(' ')[0]:\n",
    "        return 'misc'\n",
    "    if note == 'KICKOFF':\n",
    "        return 'kickoff'\n",
    "    if note == 'PENALTY':\n",
    "        return 'penalty'\n",
    "    if note == 'XP':\n",
    "        return 'extrapoint'\n",
    "    if note == 'XPM':\n",
    "        return 'extrapointmissed'\n",
    "    if note == 'FUMBLE':\n",
    "        return 'fumble'\n",
    "    return 'run'\n",
    "    "
   ]
  },
  {
   "cell_type": "code",
   "execution_count": 135,
   "metadata": {
    "collapsed": false
   },
   "outputs": [],
   "source": [
    "def gen_data(season, gameindex):\n",
    "    # Pull regular season and post season game data and combine them.\n",
    "    games = nflgame.games(season,kind='REG')\n",
    "    post_games = nflgame.games(season,kind='POST')\n",
    "    for game in post_games:\n",
    "        games.append(game)\n",
    "    \n",
    "    # For each game pull out the game data and combine it with each play's data and store it in a list.\n",
    "    all_plays = []\n",
    "    total_loss = 0\n",
    "    for game in games:\n",
    "    #for game in [games[gameindex]]:\n",
    "        # Keep track of the game score using these variables, auto reset at start of \n",
    "        # new game due to inconsistent end game reporting in 'desc' attribute\n",
    "        home_score = 0\n",
    "        away_score = 0\n",
    "        \n",
    "        # Generate a datetime value for the game.\n",
    "        y = game.schedule['year']\n",
    "        m = game.schedule['month']\n",
    "        d = game.schedule['day']\n",
    "        t = game.schedule['time']\n",
    "        str_time = str(m) + '/' + str(d) + '/' + str(y) + ' ' + str(t) + 'PM'\n",
    "        game_dt = datetime.strptime(str_time,'%m/%d/%Y %I:%M%p')\n",
    "        \n",
    "        # Pull out the game data.\n",
    "        game_data = {\n",
    "            'Date'  : game_dt,\n",
    "            'GameID': game.schedule['eid'],\n",
    "            'Season_Type': game.schedule['season_type'],\n",
    "            'Week'  : game.schedule['week'],\n",
    "            'Home'  : game.home,\n",
    "            'Away'  : game.away,\n",
    "            'Game_Score_Home': game.score_home,\n",
    "            'Game_Score_Away': game.score_away,\n",
    "            'Game_Scores': game.scores\n",
    "        }\n",
    "        \n",
    "        # For each play in the game, combine the game data and play data into \n",
    "        # a dictionary that gets stored in a list of all play data.\n",
    "        for play in nflgame.combine_plays([game]):\n",
    "            \n",
    "            play_data = copy.deepcopy(game_data)\n",
    "            \n",
    "            # Info stored directly in the Play class.\n",
    "            play_data['desc'] = play.desc\n",
    "            play_data['down'] = play.down\n",
    "            play_data['touchdown'] = play.touchdown\n",
    "            play_data['ydstogo'] = play.yards_togo\n",
    "            play_data['note'] = play.data['note']\n",
    "            play_data['posteam'] = play.data['posteam']\n",
    "            play_data['clock'] = play.data['time']\n",
    "            \n",
    "            # Info stored directly in the Drive class for this Play.\n",
    "            play_data['drive'] = play.drive\n",
    "            play_data['drive_num'] = play.drive.drive_num\n",
    "            play_data['qtr'] = play.data['qtr']\n",
    "            \n",
    "            # Generate a value based on the game clock for \n",
    "            # time under 'X' minutes remaining.\n",
    "            if len(play.data['time']) > 0:\n",
    "                t = datetime.strptime(play.data['time'],'%M:%S')\n",
    "                if t.second > 0:\n",
    "                    timeunder = t.minute + 1\n",
    "                else:\n",
    "                    timeunder = t.minute\n",
    "                play_data['timeunder'] = timeunder\n",
    "            else:\n",
    "                play_data['timeunder'] = play.data['time']\n",
    "            \n",
    "            # Remove offset from FieldPos.offset variable used to \n",
    "            # store the play's field position.\n",
    "            if play.yardline:\n",
    "                play_data['yrdline100'] = 50 + play.yardline.offset\n",
    "            else:\n",
    "                play_data['yrdline100'] = None\n",
    "            \n",
    "            # Play_Type Evaluation\n",
    "            play_data['play_type'] = play_type_parsing(play_data)\n",
    "            \n",
    "            # Score Diff\n",
    "            (play_data['scorediff'], home_score, away_score) = calc_play_score(play_data, home_score, away_score)\n",
    "            play_data['home_score'] = home_score\n",
    "            play_data['away_score'] = away_score\n",
    "            all_plays.append(play_data)\n",
    "        \n",
    "        total_loss += abs(home_score - play_data['Game_Score_Home']) + abs(away_score - play_data['Game_Score_Away'])\n",
    "        \n",
    "        if play_data['GameID'] == gameindex or gameindex == False:\n",
    "            if home_score != play_data['Game_Score_Home'] or away_score != play_data['Game_Score_Away']:\n",
    "                print play_data['GameID'], play_data['Home'], play_data['Away'], home_score, away_score, \\\n",
    "                play_data['Game_Score_Home'], play_data['Game_Score_Away'], \\\n",
    "                abs(home_score - play_data['Game_Score_Home']) + abs(away_score - play_data['Game_Score_Away']), \\\n",
    "                total_loss\n",
    "        \n",
    "        \n",
    "    return all_plays"
   ]
  },
  {
   "cell_type": "markdown",
   "metadata": {},
   "source": [
    "### TODO\n",
    "*calc_play_score(play_data, home_score, away_score)*"
   ]
  },
  {
   "cell_type": "code",
   "execution_count": 179,
   "metadata": {
    "collapsed": false
   },
   "outputs": [],
   "source": [
    "def calc_play_score(item,home_score,away_score):\n",
    "    # Based on the current play description, determine if the scores \n",
    "    # need to be updated and return the current score of the game along\n",
    "    defTeam = ''\n",
    "    if item['Home'] != item['posteam']:\n",
    "        defTeam = item['Home']\n",
    "    else:\n",
    "        defTeam = item['Away']\n",
    "    \n",
    "    play_points = {'TD':6, 'XP':1, '2PR':2, '2PS':2, 'FG':3, 'SAF':2}\n",
    "    if item['note'] in play_points.keys():\n",
    "        if item['note'] == 'SAF':\n",
    "            if defTeam == item['Home']:\n",
    "                home_score += play_points[item['note']]\n",
    "            else:\n",
    "                away_score += play_points[item['note']]\n",
    "        elif ' recovered by ' + item['Home'].lower() in item['desc'].lower():\n",
    "            home_score += play_points[item['note']] + 1\n",
    "        elif ' recovered by ' + item['Away'].lower() in item['desc'].lower():\n",
    "            away_score += play_points[item['note']] + 1\n",
    "        elif (' punts ' in item['desc']) or (' INTERCEPTED by ' in item['desc']) or (re.search('(kicks )[0-9]+( yards from )[A-Z]+( )[0-9]+( to)',item['desc'])):\n",
    "            if defTeam == item['Home']:\n",
    "                home_score += play_points[item['note']] + 1\n",
    "            else:\n",
    "                away_score += play_points[item['note']] + 1\n",
    "        elif item['posteam'] == item['Home']:\n",
    "            home_score += play_points[item['note']]\n",
    "        else:\n",
    "            away_score += play_points[item['note']]\n",
    "        #print item['desc']\n",
    "        #print item['Home'], item['Game_Score_Home'], item['Away'], item['Game_Score_Away'], home_score, away_score, item['posteam']\n",
    "    #else:\n",
    "        #print item['Home'], item['Game_Score_Home'], item['Away'], item['Game_Score_Away'], home_score, away_score\n",
    "    return home_score-away_score, home_score, away_score"
   ]
  },
  {
   "cell_type": "code",
   "execution_count": 189,
   "metadata": {
    "collapsed": false,
    "scrolled": false
   },
   "outputs": [
    {
     "name": "stdout",
     "output_type": "stream",
     "text": [
      "2015092006 CHI ARI 23 49 23 48 1 1\n",
      "2015092400 NYG WAS 32 22 32 21 1 2\n",
      "2015092701 CAR NO 27 23 27 22 1 3\n",
      "2015092711 SEA CHI 27 0 26 0 1 4\n",
      "2015100402 ATL HOU 49 21 48 21 1 5\n",
      "2015100406 TB CAR 23 38 23 37 1 6\n",
      "2015100412 NO DAL 33 14 26 20 13 19\n",
      "2015101103 ATL WAS 27 19 25 19 2 21\n",
      "2015101104 TB JAC 37 31 38 31 1 22\n",
      "2015101800 DET CHI 31 41 37 34 13 35\n",
      "2015101805 CLE DEN 24 26 23 26 1 36\n",
      "2015102510 NYG DAL 28 20 27 20 1 37\n",
      "2015110801 CAR GB 37 27 37 29 2 39\n",
      "2015110807 TB NYG 18 33 18 32 1 40\n",
      "2015110900 SD CHI 20 22 19 22 1 41\n",
      "2015111200 NYJ BUF 17 23 17 22 1 42\n",
      "2015111508 OAK MIN 14 31 14 30 1 43\n",
      "2015111511 SEA ARI 33 39 32 39 1 44\n",
      "2015112206 CAR WAS 44 17 44 16 1 45\n",
      "2015113000 CLE BAL 27 34 27 33 1 46\n",
      "2015120300 DET GB 23 28 23 27 1 47\n",
      "2015120602 MIA BAL 14 13 15 13 1 48\n",
      "2015120605 CHI SF 20 27 20 26 1 49\n",
      "2015120606 MIN SEA 8 38 7 38 1 50\n",
      "2015120607 NO CAR 36 41 38 41 2 52\n",
      "2015120610 OAK KC 20 33 20 34 1 53\n",
      "2015120613 PIT IND 43 10 45 10 2 55\n",
      "2015121301 NYJ TEN 30 6 30 8 2 57\n",
      "2015121304 JAC IND 52 16 51 16 1 58\n",
      "2015122706 MIN NYG 50 17 49 17 1 59\n",
      "2016010900 HOU KC 0 31 0 30 1 60\n"
     ]
    }
   ],
   "source": [
    " d = gen_data(2015, False)"
   ]
  },
  {
   "cell_type": "code",
   "execution_count": 190,
   "metadata": {
    "collapsed": false,
    "scrolled": true
   },
   "outputs": [],
   "source": [
    "e = gen_data(2010, '2015100412')"
   ]
  },
  {
   "cell_type": "code",
   "execution_count": 191,
   "metadata": {
    "collapsed": false,
    "scrolled": true
   },
   "outputs": [
    {
     "name": "stdout",
     "output_type": "stream",
     "text": [
      "1 (09:46) NO 0 DAL 3 FG\n",
      "1 (03:52) NO 6 DAL 3 TD\n",
      "1 (03:48) NO 7 DAL 3 XP\n",
      "2 (13:37) NO 14 DAL 3 TD\n",
      "2 (13:35) NO 14 DAL 4 XP\n",
      "3 (11:24) NO 17 DAL 4 FG\n",
      "3 (08:25) NO 17 DAL 7 FG\n",
      "3 (01:30) NO 20 DAL 7 FG\n",
      "4 (08:02) NO 26 DAL 7 TD\n",
      "4 (07:58) NO 27 DAL 7 XP\n",
      "4 (01:56) NO 27 DAL 13 TD\n",
      "4 (01:51) NO 27 DAL 14 XP\n",
      "5 (14:57) NO 33 DAL 14 TD\n"
     ]
    }
   ],
   "source": [
    "\n",
    "hscr = 0\n",
    "ascr = 0\n",
    "for play in d:\n",
    "    if play['GameID'] == '2015100412':\n",
    "        if play['home_score']==hscr and play['away_score']==ascr:\n",
    "            pass\n",
    "        else:\n",
    "            hscr = play['home_score'] \n",
    "            ascr = play['away_score']\n",
    "            print play['qtr'], '(' + play['clock'] + ')', play['Home'], hscr, str(play['Away']), ascr, play['note']"
   ]
  },
  {
   "cell_type": "code",
   "execution_count": null,
   "metadata": {
    "collapsed": true
   },
   "outputs": [],
   "source": []
  }
 ],
 "metadata": {
  "kernelspec": {
   "display_name": "Python 2",
   "language": "python",
   "name": "python2"
  },
  "language_info": {
   "codemirror_mode": {
    "name": "ipython",
    "version": 2
   },
   "file_extension": ".py",
   "mimetype": "text/x-python",
   "name": "python",
   "nbconvert_exporter": "python",
   "pygments_lexer": "ipython2",
   "version": "2.7.11"
  },
  "widgets": {
   "state": {},
   "version": "1.1.2"
  }
 },
 "nbformat": 4,
 "nbformat_minor": 0
}
