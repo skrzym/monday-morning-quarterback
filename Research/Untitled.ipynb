{
 "cells": [
  {
   "cell_type": "code",
   "execution_count": 1,
   "metadata": {
    "collapsed": true
   },
   "outputs": [],
   "source": [
    "import nfl_model as nflm"
   ]
  },
  {
   "cell_type": "code",
   "execution_count": 29,
   "metadata": {
    "collapsed": false
   },
   "outputs": [
    {
     "name": "stderr",
     "output_type": "stream",
     "text": [
      "C:\\Anaconda\\envs\\py35\\lib\\site-packages\\IPython\\core\\interactiveshell.py:2831: DtypeWarning: Columns (46) have mixed types. Specify dtype option on import or set low_memory=False.\n",
      "  if self.run_code(code, result):\n",
      "C:\\Anaconda\\envs\\py35\\lib\\site-packages\\IPython\\core\\interactiveshell.py:2831: DtypeWarning: Columns (26) have mixed types. Specify dtype option on import or set low_memory=False.\n",
      "  if self.run_code(code, result):\n",
      "C:\\Anaconda\\envs\\py35\\lib\\site-packages\\IPython\\core\\interactiveshell.py:2831: DtypeWarning: Columns (26,46) have mixed types. Specify dtype option on import or set low_memory=False.\n",
      "  if self.run_code(code, result):\n"
     ]
    },
    {
     "data": {
      "text/plain": [
       "(array([[  4.,   4.,  11.,  79., -10.],\n",
       "        [  2.,   2.,   2.,  75.,  10.],\n",
       "        [  2.,   4.,   6.,  73.,   7.],\n",
       "        ..., \n",
       "        [  1.,   2.,  10.,  74.,  -3.],\n",
       "        [  2.,   3.,  11.,  23.,  -4.],\n",
       "        [  4.,   1.,   4.,  10., -14.]]),\n",
       " array([[  2.,   4.,   5.,   4.,   3.],\n",
       "        [  2.,   3.,  12.,  28., -13.],\n",
       "        [  2.,   1.,   3.,  27.,  14.],\n",
       "        ..., \n",
       "        [  4.,   4.,   3.,  41.,  14.],\n",
       "        [  2.,   4.,   9.,  82.,  -4.],\n",
       "        [  2.,   1.,   1.,  50.,  -3.]]),\n",
       " array(['Punt', 'Run', 'Punt', ..., 'Run', 'Pass', 'Pass'],\n",
       "       dtype='<U10'),\n",
       " array(['Field Goal', 'Pass', 'Run', ..., 'Punt', 'Punt', 'Pass'],\n",
       "       dtype='<U10'))"
      ]
     },
     "execution_count": 29,
     "metadata": {},
     "output_type": "execute_result"
    }
   ],
   "source": [
    "nflm.gather_and_process_data(\"Data/PlayByPlayData/*\")"
   ]
  }
 ],
 "metadata": {
  "kernelspec": {
   "display_name": "Python 3",
   "language": "python",
   "name": "python3"
  },
  "language_info": {
   "codemirror_mode": {
    "name": "ipython",
    "version": 3
   },
   "file_extension": ".py",
   "mimetype": "text/x-python",
   "name": "python",
   "nbconvert_exporter": "python",
   "pygments_lexer": "ipython3",
   "version": "3.5.1"
  },
  "widgets": {
   "state": {},
   "version": "1.1.2"
  }
 },
 "nbformat": 4,
 "nbformat_minor": 0
}
