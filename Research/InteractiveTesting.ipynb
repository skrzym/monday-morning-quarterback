{
 "cells": [
  {
   "cell_type": "code",
   "execution_count": 1,
   "metadata": {
    "collapsed": true
   },
   "outputs": [],
   "source": [
    "from ipywidgets import interact, interactive, fixed, interact_manual\n",
    "import ipywidgets as widgets"
   ]
  },
  {
   "cell_type": "code",
   "execution_count": 3,
   "metadata": {
    "collapsed": true
   },
   "outputs": [],
   "source": [
    "widgets.IntSlider()"
   ]
  },
  {
   "cell_type": "code",
   "execution_count": 38,
   "metadata": {
    "collapsed": true
   },
   "outputs": [],
   "source": [
    "def f(x):\n",
    "    return x"
   ]
  },
  {
   "cell_type": "code",
   "execution_count": 26,
   "metadata": {
    "collapsed": false
   },
   "outputs": [],
   "source": [
    "\n",
    "w = interactive(f, a=10, b=20)"
   ]
  },
  {
   "cell_type": "code",
   "execution_count": 25,
   "metadata": {
    "collapsed": false
   },
   "outputs": [
    {
     "data": {
      "text/plain": [
       "28"
      ]
     },
     "metadata": {},
     "output_type": "display_data"
    }
   ],
   "source": [
    "w"
   ]
  },
  {
   "cell_type": "code",
   "execution_count": 32,
   "metadata": {
    "collapsed": false
   },
   "outputs": [],
   "source": [
    "x=interact_manual(f,a=10,b=20)"
   ]
  },
  {
   "cell_type": "code",
   "execution_count": 39,
   "metadata": {
    "collapsed": false
   },
   "outputs": [
    {
     "data": {
      "text/plain": [
       "3"
      ]
     },
     "metadata": {},
     "output_type": "display_data"
    }
   ],
   "source": [
    "interactive(f,x=widgets.IntSlider(min=0, max=10, step=1, value=0, continuous_update=False))"
   ]
  },
  {
   "cell_type": "code",
   "execution_count": 84,
   "metadata": {
    "collapsed": false,
    "scrolled": true
   },
   "outputs": [
    {
     "ename": "ValueError",
     "evalue": "setting an array element with a sequence.",
     "output_type": "error",
     "traceback": [
      "\u001b[1;31m---------------------------------------------------------------------------\u001b[0m",
      "\u001b[1;31mAttributeError\u001b[0m                            Traceback (most recent call last)",
      "\u001b[1;32mC:\\Anaconda\\envs\\py35\\lib\\site-packages\\numpy\\lib\\function_base.py\u001b[0m in \u001b[0;36mhistogramdd\u001b[1;34m(sample, bins, range, normed, weights)\u001b[0m\n\u001b[0;32m    882\u001b[0m         \u001b[1;31m# Sample is an ND-array.\u001b[0m\u001b[1;33m\u001b[0m\u001b[1;33m\u001b[0m\u001b[0m\n\u001b[1;32m--> 883\u001b[1;33m         \u001b[0mN\u001b[0m\u001b[1;33m,\u001b[0m \u001b[0mD\u001b[0m \u001b[1;33m=\u001b[0m \u001b[0msample\u001b[0m\u001b[1;33m.\u001b[0m\u001b[0mshape\u001b[0m\u001b[1;33m\u001b[0m\u001b[0m\n\u001b[0m\u001b[0;32m    884\u001b[0m     \u001b[1;32mexcept\u001b[0m \u001b[1;33m(\u001b[0m\u001b[0mAttributeError\u001b[0m\u001b[1;33m,\u001b[0m \u001b[0mValueError\u001b[0m\u001b[1;33m)\u001b[0m\u001b[1;33m:\u001b[0m\u001b[1;33m\u001b[0m\u001b[0m\n",
      "\u001b[1;31mAttributeError\u001b[0m: 'list' object has no attribute 'shape'",
      "\nDuring handling of the above exception, another exception occurred:\n",
      "\u001b[1;31mValueError\u001b[0m                                Traceback (most recent call last)",
      "\u001b[1;32m<ipython-input-84-b64b3c651734>\u001b[0m in \u001b[0;36m<module>\u001b[1;34m()\u001b[0m\n\u001b[0;32m      7\u001b[0m \u001b[0my\u001b[0m \u001b[1;33m=\u001b[0m \u001b[0mnp\u001b[0m\u001b[1;33m.\u001b[0m\u001b[0mrandom\u001b[0m\u001b[1;33m.\u001b[0m\u001b[0mchoice\u001b[0m\u001b[1;33m(\u001b[0m\u001b[1;33m[\u001b[0m\u001b[0mnp\u001b[0m\u001b[1;33m.\u001b[0m\u001b[0mrandom\u001b[0m\u001b[1;33m.\u001b[0m\u001b[0mrandint\u001b[0m\u001b[1;33m(\u001b[0m\u001b[1;36m50\u001b[0m\u001b[1;33m,\u001b[0m\u001b[1;36m150\u001b[0m\u001b[1;33m)\u001b[0m\u001b[1;33m/\u001b[0m\u001b[1;36m100.0\u001b[0m\u001b[1;33m,\u001b[0m\u001b[0mnp\u001b[0m\u001b[1;33m.\u001b[0m\u001b[0mrandom\u001b[0m\u001b[1;33m.\u001b[0m\u001b[0mrandint\u001b[0m\u001b[1;33m(\u001b[0m\u001b[1;36m150\u001b[0m\u001b[1;33m,\u001b[0m\u001b[1;36m250\u001b[0m\u001b[1;33m)\u001b[0m\u001b[1;33m/\u001b[0m\u001b[1;36m100.0\u001b[0m\u001b[1;33m,\u001b[0m\u001b[0mnp\u001b[0m\u001b[1;33m.\u001b[0m\u001b[0mrandom\u001b[0m\u001b[1;33m.\u001b[0m\u001b[0mrandint\u001b[0m\u001b[1;33m(\u001b[0m\u001b[1;36m250\u001b[0m\u001b[1;33m,\u001b[0m\u001b[1;36m350\u001b[0m\u001b[1;33m)\u001b[0m\u001b[1;33m/\u001b[0m\u001b[1;36m100.0\u001b[0m\u001b[1;33m]\u001b[0m\u001b[1;33m,\u001b[0m\u001b[1;36m5000\u001b[0m\u001b[1;33m)\u001b[0m\u001b[1;33m\u001b[0m\u001b[0m\n\u001b[0;32m      8\u001b[0m \u001b[1;33m\u001b[0m\u001b[0m\n\u001b[1;32m----> 9\u001b[1;33m \u001b[0mheatmap\u001b[0m\u001b[1;33m,\u001b[0m \u001b[0mxedges\u001b[0m\u001b[1;33m,\u001b[0m \u001b[0myedges\u001b[0m \u001b[1;33m=\u001b[0m \u001b[0mnp\u001b[0m\u001b[1;33m.\u001b[0m\u001b[0mhistogram2d\u001b[0m\u001b[1;33m(\u001b[0m\u001b[0mx\u001b[0m\u001b[1;33m,\u001b[0m \u001b[0my\u001b[0m\u001b[1;33m,\u001b[0m \u001b[0mbins\u001b[0m\u001b[1;33m=\u001b[0m\u001b[1;36m500\u001b[0m\u001b[1;33m)\u001b[0m\u001b[1;33m\u001b[0m\u001b[0m\n\u001b[0m\u001b[0;32m     10\u001b[0m \u001b[0mextent\u001b[0m \u001b[1;33m=\u001b[0m \u001b[1;33m[\u001b[0m\u001b[0mxedges\u001b[0m\u001b[1;33m[\u001b[0m\u001b[1;36m0\u001b[0m\u001b[1;33m]\u001b[0m\u001b[1;33m,\u001b[0m \u001b[0mxedges\u001b[0m\u001b[1;33m[\u001b[0m\u001b[1;33m-\u001b[0m\u001b[1;36m1\u001b[0m\u001b[1;33m]\u001b[0m\u001b[1;33m,\u001b[0m \u001b[0myedges\u001b[0m\u001b[1;33m[\u001b[0m\u001b[1;36m0\u001b[0m\u001b[1;33m]\u001b[0m\u001b[1;33m,\u001b[0m \u001b[0myedges\u001b[0m\u001b[1;33m[\u001b[0m\u001b[1;33m-\u001b[0m\u001b[1;36m1\u001b[0m\u001b[1;33m]\u001b[0m\u001b[1;33m]\u001b[0m\u001b[1;33m\u001b[0m\u001b[0m\n\u001b[0;32m     11\u001b[0m \u001b[1;33m\u001b[0m\u001b[0m\n",
      "\u001b[1;32mC:\\Anaconda\\envs\\py35\\lib\\site-packages\\numpy\\lib\\twodim_base.py\u001b[0m in \u001b[0;36mhistogram2d\u001b[1;34m(x, y, bins, range, normed, weights)\u001b[0m\n\u001b[0;32m    647\u001b[0m         \u001b[0mxedges\u001b[0m \u001b[1;33m=\u001b[0m \u001b[0myedges\u001b[0m \u001b[1;33m=\u001b[0m \u001b[0masarray\u001b[0m\u001b[1;33m(\u001b[0m\u001b[0mbins\u001b[0m\u001b[1;33m,\u001b[0m \u001b[0mfloat\u001b[0m\u001b[1;33m)\u001b[0m\u001b[1;33m\u001b[0m\u001b[0m\n\u001b[0;32m    648\u001b[0m         \u001b[0mbins\u001b[0m \u001b[1;33m=\u001b[0m \u001b[1;33m[\u001b[0m\u001b[0mxedges\u001b[0m\u001b[1;33m,\u001b[0m \u001b[0myedges\u001b[0m\u001b[1;33m]\u001b[0m\u001b[1;33m\u001b[0m\u001b[0m\n\u001b[1;32m--> 649\u001b[1;33m     \u001b[0mhist\u001b[0m\u001b[1;33m,\u001b[0m \u001b[0medges\u001b[0m \u001b[1;33m=\u001b[0m \u001b[0mhistogramdd\u001b[0m\u001b[1;33m(\u001b[0m\u001b[1;33m[\u001b[0m\u001b[0mx\u001b[0m\u001b[1;33m,\u001b[0m \u001b[0my\u001b[0m\u001b[1;33m]\u001b[0m\u001b[1;33m,\u001b[0m \u001b[0mbins\u001b[0m\u001b[1;33m,\u001b[0m \u001b[0mrange\u001b[0m\u001b[1;33m,\u001b[0m \u001b[0mnormed\u001b[0m\u001b[1;33m,\u001b[0m \u001b[0mweights\u001b[0m\u001b[1;33m)\u001b[0m\u001b[1;33m\u001b[0m\u001b[0m\n\u001b[0m\u001b[0;32m    650\u001b[0m     \u001b[1;32mreturn\u001b[0m \u001b[0mhist\u001b[0m\u001b[1;33m,\u001b[0m \u001b[0medges\u001b[0m\u001b[1;33m[\u001b[0m\u001b[1;36m0\u001b[0m\u001b[1;33m]\u001b[0m\u001b[1;33m,\u001b[0m \u001b[0medges\u001b[0m\u001b[1;33m[\u001b[0m\u001b[1;36m1\u001b[0m\u001b[1;33m]\u001b[0m\u001b[1;33m\u001b[0m\u001b[0m\n\u001b[0;32m    651\u001b[0m \u001b[1;33m\u001b[0m\u001b[0m\n",
      "\u001b[1;32mC:\\Anaconda\\envs\\py35\\lib\\site-packages\\numpy\\lib\\function_base.py\u001b[0m in \u001b[0;36mhistogramdd\u001b[1;34m(sample, bins, range, normed, weights)\u001b[0m\n\u001b[0;32m    884\u001b[0m     \u001b[1;32mexcept\u001b[0m \u001b[1;33m(\u001b[0m\u001b[0mAttributeError\u001b[0m\u001b[1;33m,\u001b[0m \u001b[0mValueError\u001b[0m\u001b[1;33m)\u001b[0m\u001b[1;33m:\u001b[0m\u001b[1;33m\u001b[0m\u001b[0m\n\u001b[0;32m    885\u001b[0m         \u001b[1;31m# Sample is a sequence of 1D arrays.\u001b[0m\u001b[1;33m\u001b[0m\u001b[1;33m\u001b[0m\u001b[0m\n\u001b[1;32m--> 886\u001b[1;33m         \u001b[0msample\u001b[0m \u001b[1;33m=\u001b[0m \u001b[0matleast_2d\u001b[0m\u001b[1;33m(\u001b[0m\u001b[0msample\u001b[0m\u001b[1;33m)\u001b[0m\u001b[1;33m.\u001b[0m\u001b[0mT\u001b[0m\u001b[1;33m\u001b[0m\u001b[0m\n\u001b[0m\u001b[0;32m    887\u001b[0m         \u001b[0mN\u001b[0m\u001b[1;33m,\u001b[0m \u001b[0mD\u001b[0m \u001b[1;33m=\u001b[0m \u001b[0msample\u001b[0m\u001b[1;33m.\u001b[0m\u001b[0mshape\u001b[0m\u001b[1;33m\u001b[0m\u001b[0m\n\u001b[0;32m    888\u001b[0m \u001b[1;33m\u001b[0m\u001b[0m\n",
      "\u001b[1;32mC:\\Anaconda\\envs\\py35\\lib\\site-packages\\numpy\\core\\shape_base.py\u001b[0m in \u001b[0;36matleast_2d\u001b[1;34m(*arys)\u001b[0m\n\u001b[0;32m    100\u001b[0m     \u001b[0mres\u001b[0m \u001b[1;33m=\u001b[0m \u001b[1;33m[\u001b[0m\u001b[1;33m]\u001b[0m\u001b[1;33m\u001b[0m\u001b[0m\n\u001b[0;32m    101\u001b[0m     \u001b[1;32mfor\u001b[0m \u001b[0mary\u001b[0m \u001b[1;32min\u001b[0m \u001b[0marys\u001b[0m\u001b[1;33m:\u001b[0m\u001b[1;33m\u001b[0m\u001b[0m\n\u001b[1;32m--> 102\u001b[1;33m         \u001b[0mary\u001b[0m \u001b[1;33m=\u001b[0m \u001b[0masanyarray\u001b[0m\u001b[1;33m(\u001b[0m\u001b[0mary\u001b[0m\u001b[1;33m)\u001b[0m\u001b[1;33m\u001b[0m\u001b[0m\n\u001b[0m\u001b[0;32m    103\u001b[0m         \u001b[1;32mif\u001b[0m \u001b[0mary\u001b[0m\u001b[1;33m.\u001b[0m\u001b[0mndim\u001b[0m \u001b[1;33m==\u001b[0m \u001b[1;36m0\u001b[0m\u001b[1;33m:\u001b[0m\u001b[1;33m\u001b[0m\u001b[0m\n\u001b[0;32m    104\u001b[0m             \u001b[0mresult\u001b[0m \u001b[1;33m=\u001b[0m \u001b[0mary\u001b[0m\u001b[1;33m.\u001b[0m\u001b[0mreshape\u001b[0m\u001b[1;33m(\u001b[0m\u001b[1;36m1\u001b[0m\u001b[1;33m,\u001b[0m \u001b[1;36m1\u001b[0m\u001b[1;33m)\u001b[0m\u001b[1;33m\u001b[0m\u001b[0m\n",
      "\u001b[1;32mC:\\Anaconda\\envs\\py35\\lib\\site-packages\\numpy\\core\\numeric.py\u001b[0m in \u001b[0;36masanyarray\u001b[1;34m(a, dtype, order)\u001b[0m\n\u001b[0;32m    581\u001b[0m \u001b[1;33m\u001b[0m\u001b[0m\n\u001b[0;32m    582\u001b[0m     \"\"\"\n\u001b[1;32m--> 583\u001b[1;33m     \u001b[1;32mreturn\u001b[0m \u001b[0marray\u001b[0m\u001b[1;33m(\u001b[0m\u001b[0ma\u001b[0m\u001b[1;33m,\u001b[0m \u001b[0mdtype\u001b[0m\u001b[1;33m,\u001b[0m \u001b[0mcopy\u001b[0m\u001b[1;33m=\u001b[0m\u001b[1;32mFalse\u001b[0m\u001b[1;33m,\u001b[0m \u001b[0morder\u001b[0m\u001b[1;33m=\u001b[0m\u001b[0morder\u001b[0m\u001b[1;33m,\u001b[0m \u001b[0msubok\u001b[0m\u001b[1;33m=\u001b[0m\u001b[1;32mTrue\u001b[0m\u001b[1;33m)\u001b[0m\u001b[1;33m\u001b[0m\u001b[0m\n\u001b[0m\u001b[0;32m    584\u001b[0m \u001b[1;33m\u001b[0m\u001b[0m\n\u001b[0;32m    585\u001b[0m \u001b[1;33m\u001b[0m\u001b[0m\n",
      "\u001b[1;31mValueError\u001b[0m: setting an array element with a sequence."
     ]
    }
   ],
   "source": [
    "import numpy as np\n",
    "import numpy.random\n",
    "import matplotlib.pyplot as plt\n",
    "\n",
    "# Generate some test data\n",
    "x = np.random.randint(1,)\n",
    "y = np.random.choice([np.random.randint(50,150)/100.0,np.random.randint(150,250)/100.0,np.random.randint(250,350)/100.0],5000)\n",
    "\n",
    "heatmap, xedges, yedges = np.histogram2d(x, y, bins=500)\n",
    "extent = [xedges[0], xedges[-1], yedges[0], yedges[-1]]\n",
    "\n",
    "plt.clf()\n",
    "plt.imshow(heatmap.T, extent=extent, origin='lower')\n",
    "plt.show()"
   ]
  },
  {
   "cell_type": "code",
   "execution_count": 86,
   "metadata": {
    "collapsed": true
   },
   "outputs": [],
   "source": [
    "import seaborn as sns\n",
    "%matplotlib inline"
   ]
  },
  {
   "cell_type": "code",
   "execution_count": 83,
   "metadata": {
    "collapsed": true
   },
   "outputs": [],
   "source": [
    "?sns.heatmap()"
   ]
  },
  {
   "cell_type": "code",
   "execution_count": 186,
   "metadata": {
    "collapsed": false
   },
   "outputs": [
    {
     "data": {
      "image/png": "[encoded data removed]",
      "text/plain": [
       "<matplotlib.figure.Figure at 0x234171f5128>"
      ]
     },
     "metadata": {},
     "output_type": "display_data"
    }
   ],
   "source": [
    "flights = sns.load_dataset(\"flights\")\n",
    "flights = flights.pivot(\"month\", \"year\", \"passengers\")\n",
    "ax = sns.heatmap(flights,square=True, cmap=\"YlGnBu\")"
   ]
  },
  {
   "cell_type": "code",
   "execution_count": 95,
   "metadata": {
    "collapsed": false,
    "scrolled": true
   },
   "outputs": [
    {
     "data": {
      "text/html": [
       "<div>\n",
       "<style>\n",
       "    .dataframe thead tr:only-child th {\n",
       "        text-align: right;\n",
       "    }\n",
       "\n",
       "    .dataframe thead th {\n",
       "        text-align: left;\n",
       "    }\n",
       "\n",
       "    .dataframe tbody tr th {\n",
       "        vertical-align: top;\n",
       "    }\n",
       "</style>\n",
       "<table border=\"1\" class=\"dataframe\">\n",
       "  <thead>\n",
       "    <tr style=\"text-align: right;\">\n",
       "      <th></th>\n",
       "      <th>year</th>\n",
       "      <th>month</th>\n",
       "      <th>passengers</th>\n",
       "    </tr>\n",
       "  </thead>\n",
       "  <tbody>\n",
       "    <tr>\n",
       "      <th>0</th>\n",
       "      <td>1949</td>\n",
       "      <td>January</td>\n",
       "      <td>112</td>\n",
       "    </tr>\n",
       "    <tr>\n",
       "      <th>1</th>\n",
       "      <td>1949</td>\n",
       "      <td>February</td>\n",
       "      <td>118</td>\n",
       "    </tr>\n",
       "    <tr>\n",
       "      <th>2</th>\n",
       "      <td>1949</td>\n",
       "      <td>March</td>\n",
       "      <td>132</td>\n",
       "    </tr>\n",
       "    <tr>\n",
       "      <th>3</th>\n",
       "      <td>1949</td>\n",
       "      <td>April</td>\n",
       "      <td>129</td>\n",
       "    </tr>\n",
       "    <tr>\n",
       "      <th>4</th>\n",
       "      <td>1949</td>\n",
       "      <td>May</td>\n",
       "      <td>121</td>\n",
       "    </tr>\n",
       "    <tr>\n",
       "      <th>5</th>\n",
       "      <td>1949</td>\n",
       "      <td>June</td>\n",
       "      <td>135</td>\n",
       "    </tr>\n",
       "    <tr>\n",
       "      <th>6</th>\n",
       "      <td>1949</td>\n",
       "      <td>July</td>\n",
       "      <td>148</td>\n",
       "    </tr>\n",
       "    <tr>\n",
       "      <th>7</th>\n",
       "      <td>1949</td>\n",
       "      <td>August</td>\n",
       "      <td>148</td>\n",
       "    </tr>\n",
       "    <tr>\n",
       "      <th>8</th>\n",
       "      <td>1949</td>\n",
       "      <td>September</td>\n",
       "      <td>136</td>\n",
       "    </tr>\n",
       "    <tr>\n",
       "      <th>9</th>\n",
       "      <td>1949</td>\n",
       "      <td>October</td>\n",
       "      <td>119</td>\n",
       "    </tr>\n",
       "    <tr>\n",
       "      <th>10</th>\n",
       "      <td>1949</td>\n",
       "      <td>November</td>\n",
       "      <td>104</td>\n",
       "    </tr>\n",
       "    <tr>\n",
       "      <th>11</th>\n",
       "      <td>1949</td>\n",
       "      <td>December</td>\n",
       "      <td>118</td>\n",
       "    </tr>\n",
       "    <tr>\n",
       "      <th>12</th>\n",
       "      <td>1950</td>\n",
       "      <td>January</td>\n",
       "      <td>115</td>\n",
       "    </tr>\n",
       "    <tr>\n",
       "      <th>13</th>\n",
       "      <td>1950</td>\n",
       "      <td>February</td>\n",
       "      <td>126</td>\n",
       "    </tr>\n",
       "    <tr>\n",
       "      <th>14</th>\n",
       "      <td>1950</td>\n",
       "      <td>March</td>\n",
       "      <td>141</td>\n",
       "    </tr>\n",
       "    <tr>\n",
       "      <th>15</th>\n",
       "      <td>1950</td>\n",
       "      <td>April</td>\n",
       "      <td>135</td>\n",
       "    </tr>\n",
       "    <tr>\n",
       "      <th>16</th>\n",
       "      <td>1950</td>\n",
       "      <td>May</td>\n",
       "      <td>125</td>\n",
       "    </tr>\n",
       "    <tr>\n",
       "      <th>17</th>\n",
       "      <td>1950</td>\n",
       "      <td>June</td>\n",
       "      <td>149</td>\n",
       "    </tr>\n",
       "    <tr>\n",
       "      <th>18</th>\n",
       "      <td>1950</td>\n",
       "      <td>July</td>\n",
       "      <td>170</td>\n",
       "    </tr>\n",
       "    <tr>\n",
       "      <th>19</th>\n",
       "      <td>1950</td>\n",
       "      <td>August</td>\n",
       "      <td>170</td>\n",
       "    </tr>\n",
       "    <tr>\n",
       "      <th>20</th>\n",
       "      <td>1950</td>\n",
       "      <td>September</td>\n",
       "      <td>158</td>\n",
       "    </tr>\n",
       "    <tr>\n",
       "      <th>21</th>\n",
       "      <td>1950</td>\n",
       "      <td>October</td>\n",
       "      <td>133</td>\n",
       "    </tr>\n",
       "    <tr>\n",
       "      <th>22</th>\n",
       "      <td>1950</td>\n",
       "      <td>November</td>\n",
       "      <td>114</td>\n",
       "    </tr>\n",
       "    <tr>\n",
       "      <th>23</th>\n",
       "      <td>1950</td>\n",
       "      <td>December</td>\n",
       "      <td>140</td>\n",
       "    </tr>\n",
       "    <tr>\n",
       "      <th>24</th>\n",
       "      <td>1951</td>\n",
       "      <td>January</td>\n",
       "      <td>145</td>\n",
       "    </tr>\n",
       "    <tr>\n",
       "      <th>25</th>\n",
       "      <td>1951</td>\n",
       "      <td>February</td>\n",
       "      <td>150</td>\n",
       "    </tr>\n",
       "    <tr>\n",
       "      <th>26</th>\n",
       "      <td>1951</td>\n",
       "      <td>March</td>\n",
       "      <td>178</td>\n",
       "    </tr>\n",
       "    <tr>\n",
       "      <th>27</th>\n",
       "      <td>1951</td>\n",
       "      <td>April</td>\n",
       "      <td>163</td>\n",
       "    </tr>\n",
       "    <tr>\n",
       "      <th>28</th>\n",
       "      <td>1951</td>\n",
       "      <td>May</td>\n",
       "      <td>172</td>\n",
       "    </tr>\n",
       "    <tr>\n",
       "      <th>29</th>\n",
       "      <td>1951</td>\n",
       "      <td>June</td>\n",
       "      <td>178</td>\n",
       "    </tr>\n",
       "    <tr>\n",
       "      <th>...</th>\n",
       "      <td>...</td>\n",
       "      <td>...</td>\n",
       "      <td>...</td>\n",
       "    </tr>\n",
       "    <tr>\n",
       "      <th>114</th>\n",
       "      <td>1958</td>\n",
       "      <td>July</td>\n",
       "      <td>491</td>\n",
       "    </tr>\n",
       "    <tr>\n",
       "      <th>115</th>\n",
       "      <td>1958</td>\n",
       "      <td>August</td>\n",
       "      <td>505</td>\n",
       "    </tr>\n",
       "    <tr>\n",
       "      <th>116</th>\n",
       "      <td>1958</td>\n",
       "      <td>September</td>\n",
       "      <td>404</td>\n",
       "    </tr>\n",
       "    <tr>\n",
       "      <th>117</th>\n",
       "      <td>1958</td>\n",
       "      <td>October</td>\n",
       "      <td>359</td>\n",
       "    </tr>\n",
       "    <tr>\n",
       "      <th>118</th>\n",
       "      <td>1958</td>\n",
       "      <td>November</td>\n",
       "      <td>310</td>\n",
       "    </tr>\n",
       "    <tr>\n",
       "      <th>119</th>\n",
       "      <td>1958</td>\n",
       "      <td>December</td>\n",
       "      <td>337</td>\n",
       "    </tr>\n",
       "    <tr>\n",
       "      <th>120</th>\n",
       "      <td>1959</td>\n",
       "      <td>January</td>\n",
       "      <td>360</td>\n",
       "    </tr>\n",
       "    <tr>\n",
       "      <th>121</th>\n",
       "      <td>1959</td>\n",
       "      <td>February</td>\n",
       "      <td>342</td>\n",
       "    </tr>\n",
       "    <tr>\n",
       "      <th>122</th>\n",
       "      <td>1959</td>\n",
       "      <td>March</td>\n",
       "      <td>406</td>\n",
       "    </tr>\n",
       "    <tr>\n",
       "      <th>123</th>\n",
       "      <td>1959</td>\n",
       "      <td>April</td>\n",
       "      <td>396</td>\n",
       "    </tr>\n",
       "    <tr>\n",
       "      <th>124</th>\n",
       "      <td>1959</td>\n",
       "      <td>May</td>\n",
       "      <td>420</td>\n",
       "    </tr>\n",
       "    <tr>\n",
       "      <th>125</th>\n",
       "      <td>1959</td>\n",
       "      <td>June</td>\n",
       "      <td>472</td>\n",
       "    </tr>\n",
       "    <tr>\n",
       "      <th>126</th>\n",
       "      <td>1959</td>\n",
       "      <td>July</td>\n",
       "      <td>548</td>\n",
       "    </tr>\n",
       "    <tr>\n",
       "      <th>127</th>\n",
       "      <td>1959</td>\n",
       "      <td>August</td>\n",
       "      <td>559</td>\n",
       "    </tr>\n",
       "    <tr>\n",
       "      <th>128</th>\n",
       "      <td>1959</td>\n",
       "      <td>September</td>\n",
       "      <td>463</td>\n",
       "    </tr>\n",
       "    <tr>\n",
       "      <th>129</th>\n",
       "      <td>1959</td>\n",
       "      <td>October</td>\n",
       "      <td>407</td>\n",
       "    </tr>\n",
       "    <tr>\n",
       "      <th>130</th>\n",
       "      <td>1959</td>\n",
       "      <td>November</td>\n",
       "      <td>362</td>\n",
       "    </tr>\n",
       "    <tr>\n",
       "      <th>131</th>\n",
       "      <td>1959</td>\n",
       "      <td>December</td>\n",
       "      <td>405</td>\n",
       "    </tr>\n",
       "    <tr>\n",
       "      <th>132</th>\n",
       "      <td>1960</td>\n",
       "      <td>January</td>\n",
       "      <td>417</td>\n",
       "    </tr>\n",
       "    <tr>\n",
       "      <th>133</th>\n",
       "      <td>1960</td>\n",
       "      <td>February</td>\n",
       "      <td>391</td>\n",
       "    </tr>\n",
       "    <tr>\n",
       "      <th>134</th>\n",
       "      <td>1960</td>\n",
       "      <td>March</td>\n",
       "      <td>419</td>\n",
       "    </tr>\n",
       "    <tr>\n",
       "      <th>135</th>\n",
       "      <td>1960</td>\n",
       "      <td>April</td>\n",
       "      <td>461</td>\n",
       "    </tr>\n",
       "    <tr>\n",
       "      <th>136</th>\n",
       "      <td>1960</td>\n",
       "      <td>May</td>\n",
       "      <td>472</td>\n",
       "    </tr>\n",
       "    <tr>\n",
       "      <th>137</th>\n",
       "      <td>1960</td>\n",
       "      <td>June</td>\n",
       "      <td>535</td>\n",
       "    </tr>\n",
       "    <tr>\n",
       "      <th>138</th>\n",
       "      <td>1960</td>\n",
       "      <td>July</td>\n",
       "      <td>622</td>\n",
       "    </tr>\n",
       "    <tr>\n",
       "      <th>139</th>\n",
       "      <td>1960</td>\n",
       "      <td>August</td>\n",
       "      <td>606</td>\n",
       "    </tr>\n",
       "    <tr>\n",
       "      <th>140</th>\n",
       "      <td>1960</td>\n",
       "      <td>September</td>\n",
       "      <td>508</td>\n",
       "    </tr>\n",
       "    <tr>\n",
       "      <th>141</th>\n",
       "      <td>1960</td>\n",
       "      <td>October</td>\n",
       "      <td>461</td>\n",
       "    </tr>\n",
       "    <tr>\n",
       "      <th>142</th>\n",
       "      <td>1960</td>\n",
       "      <td>November</td>\n",
       "      <td>390</td>\n",
       "    </tr>\n",
       "    <tr>\n",
       "      <th>143</th>\n",
       "      <td>1960</td>\n",
       "      <td>December</td>\n",
       "      <td>432</td>\n",
       "    </tr>\n",
       "  </tbody>\n",
       "</table>\n",
       "<p>144 rows × 3 columns</p>\n",
       "</div>"
      ],
      "text/plain": [
       "     year      month  passengers\n",
       "0    1949    January         112\n",
       "1    1949   February         118\n",
       "2    1949      March         132\n",
       "3    1949      April         129\n",
       "4    1949        May         121\n",
       "5    1949       June         135\n",
       "6    1949       July         148\n",
       "7    1949     August         148\n",
       "8    1949  September         136\n",
       "9    1949    October         119\n",
       "10   1949   November         104\n",
       "11   1949   December         118\n",
       "12   1950    January         115\n",
       "13   1950   February         126\n",
       "14   1950      March         141\n",
       "15   1950      April         135\n",
       "16   1950        May         125\n",
       "17   1950       June         149\n",
       "18   1950       July         170\n",
       "19   1950     August         170\n",
       "20   1950  September         158\n",
       "21   1950    October         133\n",
       "22   1950   November         114\n",
       "23   1950   December         140\n",
       "24   1951    January         145\n",
       "25   1951   February         150\n",
       "26   1951      March         178\n",
       "27   1951      April         163\n",
       "28   1951        May         172\n",
       "29   1951       June         178\n",
       "..    ...        ...         ...\n",
       "114  1958       July         491\n",
       "115  1958     August         505\n",
       "116  1958  September         404\n",
       "117  1958    October         359\n",
       "118  1958   November         310\n",
       "119  1958   December         337\n",
       "120  1959    January         360\n",
       "121  1959   February         342\n",
       "122  1959      March         406\n",
       "123  1959      April         396\n",
       "124  1959        May         420\n",
       "125  1959       June         472\n",
       "126  1959       July         548\n",
       "127  1959     August         559\n",
       "128  1959  September         463\n",
       "129  1959    October         407\n",
       "130  1959   November         362\n",
       "131  1959   December         405\n",
       "132  1960    January         417\n",
       "133  1960   February         391\n",
       "134  1960      March         419\n",
       "135  1960      April         461\n",
       "136  1960        May         472\n",
       "137  1960       June         535\n",
       "138  1960       July         622\n",
       "139  1960     August         606\n",
       "140  1960  September         508\n",
       "141  1960    October         461\n",
       "142  1960   November         390\n",
       "143  1960   December         432\n",
       "\n",
       "[144 rows x 3 columns]"
      ]
     },
     "execution_count": 95,
     "metadata": {},
     "output_type": "execute_result"
    }
   ],
   "source": [
    "flights = sns.load_dataset(\"flights\")\n",
    "flights"
   ]
  },
  {
   "cell_type": "code",
   "execution_count": 96,
   "metadata": {
    "collapsed": false
   },
   "outputs": [
    {
     "data": {
      "text/html": [
       "<div>\n",
       "<style>\n",
       "    .dataframe thead tr:only-child th {\n",
       "        text-align: right;\n",
       "    }\n",
       "\n",
       "    .dataframe thead th {\n",
       "        text-align: left;\n",
       "    }\n",
       "\n",
       "    .dataframe tbody tr th {\n",
       "        vertical-align: top;\n",
       "    }\n",
       "</style>\n",
       "<table border=\"1\" class=\"dataframe\">\n",
       "  <thead>\n",
       "    <tr style=\"text-align: right;\">\n",
       "      <th>year</th>\n",
       "      <th>1949</th>\n",
       "      <th>1950</th>\n",
       "      <th>1951</th>\n",
       "      <th>1952</th>\n",
       "      <th>1953</th>\n",
       "      <th>1954</th>\n",
       "      <th>1955</th>\n",
       "      <th>1956</th>\n",
       "      <th>1957</th>\n",
       "      <th>1958</th>\n",
       "      <th>1959</th>\n",
       "      <th>1960</th>\n",
       "    </tr>\n",
       "    <tr>\n",
       "      <th>month</th>\n",
       "      <th></th>\n",
       "      <th></th>\n",
       "      <th></th>\n",
       "      <th></th>\n",
       "      <th></th>\n",
       "      <th></th>\n",
       "      <th></th>\n",
       "      <th></th>\n",
       "      <th></th>\n",
       "      <th></th>\n",
       "      <th></th>\n",
       "      <th></th>\n",
       "    </tr>\n",
       "  </thead>\n",
       "  <tbody>\n",
       "    <tr>\n",
       "      <th>January</th>\n",
       "      <td>112</td>\n",
       "      <td>115</td>\n",
       "      <td>145</td>\n",
       "      <td>171</td>\n",
       "      <td>196</td>\n",
       "      <td>204</td>\n",
       "      <td>242</td>\n",
       "      <td>284</td>\n",
       "      <td>315</td>\n",
       "      <td>340</td>\n",
       "      <td>360</td>\n",
       "      <td>417</td>\n",
       "    </tr>\n",
       "    <tr>\n",
       "      <th>February</th>\n",
       "      <td>118</td>\n",
       "      <td>126</td>\n",
       "      <td>150</td>\n",
       "      <td>180</td>\n",
       "      <td>196</td>\n",
       "      <td>188</td>\n",
       "      <td>233</td>\n",
       "      <td>277</td>\n",
       "      <td>301</td>\n",
       "      <td>318</td>\n",
       "      <td>342</td>\n",
       "      <td>391</td>\n",
       "    </tr>\n",
       "    <tr>\n",
       "      <th>March</th>\n",
       "      <td>132</td>\n",
       "      <td>141</td>\n",
       "      <td>178</td>\n",
       "      <td>193</td>\n",
       "      <td>236</td>\n",
       "      <td>235</td>\n",
       "      <td>267</td>\n",
       "      <td>317</td>\n",
       "      <td>356</td>\n",
       "      <td>362</td>\n",
       "      <td>406</td>\n",
       "      <td>419</td>\n",
       "    </tr>\n",
       "    <tr>\n",
       "      <th>April</th>\n",
       "      <td>129</td>\n",
       "      <td>135</td>\n",
       "      <td>163</td>\n",
       "      <td>181</td>\n",
       "      <td>235</td>\n",
       "      <td>227</td>\n",
       "      <td>269</td>\n",
       "      <td>313</td>\n",
       "      <td>348</td>\n",
       "      <td>348</td>\n",
       "      <td>396</td>\n",
       "      <td>461</td>\n",
       "    </tr>\n",
       "    <tr>\n",
       "      <th>May</th>\n",
       "      <td>121</td>\n",
       "      <td>125</td>\n",
       "      <td>172</td>\n",
       "      <td>183</td>\n",
       "      <td>229</td>\n",
       "      <td>234</td>\n",
       "      <td>270</td>\n",
       "      <td>318</td>\n",
       "      <td>355</td>\n",
       "      <td>363</td>\n",
       "      <td>420</td>\n",
       "      <td>472</td>\n",
       "    </tr>\n",
       "    <tr>\n",
       "      <th>June</th>\n",
       "      <td>135</td>\n",
       "      <td>149</td>\n",
       "      <td>178</td>\n",
       "      <td>218</td>\n",
       "      <td>243</td>\n",
       "      <td>264</td>\n",
       "      <td>315</td>\n",
       "      <td>374</td>\n",
       "      <td>422</td>\n",
       "      <td>435</td>\n",
       "      <td>472</td>\n",
       "      <td>535</td>\n",
       "    </tr>\n",
       "    <tr>\n",
       "      <th>July</th>\n",
       "      <td>148</td>\n",
       "      <td>170</td>\n",
       "      <td>199</td>\n",
       "      <td>230</td>\n",
       "      <td>264</td>\n",
       "      <td>302</td>\n",
       "      <td>364</td>\n",
       "      <td>413</td>\n",
       "      <td>465</td>\n",
       "      <td>491</td>\n",
       "      <td>548</td>\n",
       "      <td>622</td>\n",
       "    </tr>\n",
       "    <tr>\n",
       "      <th>August</th>\n",
       "      <td>148</td>\n",
       "      <td>170</td>\n",
       "      <td>199</td>\n",
       "      <td>242</td>\n",
       "      <td>272</td>\n",
       "      <td>293</td>\n",
       "      <td>347</td>\n",
       "      <td>405</td>\n",
       "      <td>467</td>\n",
       "      <td>505</td>\n",
       "      <td>559</td>\n",
       "      <td>606</td>\n",
       "    </tr>\n",
       "    <tr>\n",
       "      <th>September</th>\n",
       "      <td>136</td>\n",
       "      <td>158</td>\n",
       "      <td>184</td>\n",
       "      <td>209</td>\n",
       "      <td>237</td>\n",
       "      <td>259</td>\n",
       "      <td>312</td>\n",
       "      <td>355</td>\n",
       "      <td>404</td>\n",
       "      <td>404</td>\n",
       "      <td>463</td>\n",
       "      <td>508</td>\n",
       "    </tr>\n",
       "    <tr>\n",
       "      <th>October</th>\n",
       "      <td>119</td>\n",
       "      <td>133</td>\n",
       "      <td>162</td>\n",
       "      <td>191</td>\n",
       "      <td>211</td>\n",
       "      <td>229</td>\n",
       "      <td>274</td>\n",
       "      <td>306</td>\n",
       "      <td>347</td>\n",
       "      <td>359</td>\n",
       "      <td>407</td>\n",
       "      <td>461</td>\n",
       "    </tr>\n",
       "    <tr>\n",
       "      <th>November</th>\n",
       "      <td>104</td>\n",
       "      <td>114</td>\n",
       "      <td>146</td>\n",
       "      <td>172</td>\n",
       "      <td>180</td>\n",
       "      <td>203</td>\n",
       "      <td>237</td>\n",
       "      <td>271</td>\n",
       "      <td>305</td>\n",
       "      <td>310</td>\n",
       "      <td>362</td>\n",
       "      <td>390</td>\n",
       "    </tr>\n",
       "    <tr>\n",
       "      <th>December</th>\n",
       "      <td>118</td>\n",
       "      <td>140</td>\n",
       "      <td>166</td>\n",
       "      <td>194</td>\n",
       "      <td>201</td>\n",
       "      <td>229</td>\n",
       "      <td>278</td>\n",
       "      <td>306</td>\n",
       "      <td>336</td>\n",
       "      <td>337</td>\n",
       "      <td>405</td>\n",
       "      <td>432</td>\n",
       "    </tr>\n",
       "  </tbody>\n",
       "</table>\n",
       "</div>"
      ],
      "text/plain": [
       "year       1949  1950  1951  1952  1953  1954  1955  1956  1957  1958  1959  \\\n",
       "month                                                                         \n",
       "January     112   115   145   171   196   204   242   284   315   340   360   \n",
       "February    118   126   150   180   196   188   233   277   301   318   342   \n",
       "March       132   141   178   193   236   235   267   317   356   362   406   \n",
       "April       129   135   163   181   235   227   269   313   348   348   396   \n",
       "May         121   125   172   183   229   234   270   318   355   363   420   \n",
       "June        135   149   178   218   243   264   315   374   422   435   472   \n",
       "July        148   170   199   230   264   302   364   413   465   491   548   \n",
       "August      148   170   199   242   272   293   347   405   467   505   559   \n",
       "September   136   158   184   209   237   259   312   355   404   404   463   \n",
       "October     119   133   162   191   211   229   274   306   347   359   407   \n",
       "November    104   114   146   172   180   203   237   271   305   310   362   \n",
       "December    118   140   166   194   201   229   278   306   336   337   405   \n",
       "\n",
       "year       1960  \n",
       "month            \n",
       "January     417  \n",
       "February    391  \n",
       "March       419  \n",
       "April       461  \n",
       "May         472  \n",
       "June        535  \n",
       "July        622  \n",
       "August      606  \n",
       "September   508  \n",
       "October     461  \n",
       "November    390  \n",
       "December    432  "
      ]
     },
     "execution_count": 96,
     "metadata": {},
     "output_type": "execute_result"
    }
   ],
   "source": [
    "flights = flights.pivot(\"month\", \"year\", \"passengers\")\n",
    "flights"
   ]
  },
  {
   "cell_type": "code",
   "execution_count": 185,
   "metadata": {
    "collapsed": false
   },
   "outputs": [
    {
     "ename": "ValueError",
     "evalue": "operands could not be broadcast together with shapes (54,1) (180,4) ",
     "output_type": "error",
     "traceback": [
      "\u001b[1;31m---------------------------------------------------------------------------\u001b[0m",
      "\u001b[1;31mValueError\u001b[0m                                Traceback (most recent call last)",
      "\u001b[1;32m<ipython-input-185-7b0e00ab18bd>\u001b[0m in \u001b[0;36m<module>\u001b[1;34m()\u001b[0m\n\u001b[0;32m     34\u001b[0m \u001b[0mdz\u001b[0m \u001b[1;33m=\u001b[0m \u001b[0mhist\u001b[0m\u001b[1;33m.\u001b[0m\u001b[0mflatten\u001b[0m\u001b[1;33m(\u001b[0m\u001b[1;33m)\u001b[0m\u001b[1;33m\u001b[0m\u001b[0m\n\u001b[0;32m     35\u001b[0m \u001b[1;33m\u001b[0m\u001b[0m\n\u001b[1;32m---> 36\u001b[1;33m \u001b[0max\u001b[0m\u001b[1;33m.\u001b[0m\u001b[0mbar3d\u001b[0m\u001b[1;33m(\u001b[0m\u001b[0mxpos\u001b[0m\u001b[1;33m,\u001b[0m \u001b[0mypos\u001b[0m\u001b[1;33m,\u001b[0m \u001b[0mzpos\u001b[0m\u001b[1;33m,\u001b[0m \u001b[0mdx\u001b[0m\u001b[1;33m,\u001b[0m \u001b[0mdy\u001b[0m\u001b[1;33m,\u001b[0m \u001b[0mdz\u001b[0m\u001b[1;33m,\u001b[0m \u001b[0mcolor\u001b[0m\u001b[1;33m=\u001b[0m\u001b[1;34m'y'\u001b[0m\u001b[1;33m,\u001b[0m \u001b[0mzsort\u001b[0m\u001b[1;33m=\u001b[0m\u001b[1;34m'average'\u001b[0m\u001b[1;33m)\u001b[0m\u001b[1;33m\u001b[0m\u001b[0m\n\u001b[0m\u001b[0;32m     37\u001b[0m \u001b[0max\u001b[0m\u001b[1;33m.\u001b[0m\u001b[0mview_init\u001b[0m\u001b[1;33m(\u001b[0m\u001b[1;36m30\u001b[0m\u001b[1;33m,\u001b[0m\u001b[1;36m90\u001b[0m\u001b[1;33m)\u001b[0m\u001b[1;33m\u001b[0m\u001b[0m\n\u001b[0;32m     38\u001b[0m \u001b[0mplt\u001b[0m\u001b[1;33m.\u001b[0m\u001b[0mshow\u001b[0m\u001b[1;33m(\u001b[0m\u001b[1;33m)\u001b[0m\u001b[1;33m\u001b[0m\u001b[0m\n",
      "\u001b[1;32mC:\\Anaconda\\envs\\py35\\lib\\site-packages\\mpl_toolkits\\mplot3d\\axes3d.py\u001b[0m in \u001b[0;36mbar3d\u001b[1;34m(self, x, y, z, dx, dy, dz, color, zsort, *args, **kwargs)\u001b[0m\n\u001b[0;32m   2525\u001b[0m \u001b[1;33m\u001b[0m\u001b[0m\n\u001b[0;32m   2526\u001b[0m         \u001b[0mnormals\u001b[0m \u001b[1;33m=\u001b[0m \u001b[0mself\u001b[0m\u001b[1;33m.\u001b[0m\u001b[0m_generate_normals\u001b[0m\u001b[1;33m(\u001b[0m\u001b[0mpolys\u001b[0m\u001b[1;33m)\u001b[0m\u001b[1;33m\u001b[0m\u001b[0m\n\u001b[1;32m-> 2527\u001b[1;33m         \u001b[0msfacecolors\u001b[0m \u001b[1;33m=\u001b[0m \u001b[0mself\u001b[0m\u001b[1;33m.\u001b[0m\u001b[0m_shade_colors\u001b[0m\u001b[1;33m(\u001b[0m\u001b[0mfacecolors\u001b[0m\u001b[1;33m,\u001b[0m \u001b[0mnormals\u001b[0m\u001b[1;33m)\u001b[0m\u001b[1;33m\u001b[0m\u001b[0m\n\u001b[0m\u001b[0;32m   2528\u001b[0m         col = art3d.Poly3DCollection(polys,\n\u001b[0;32m   2529\u001b[0m                                      \u001b[0mzsort\u001b[0m\u001b[1;33m=\u001b[0m\u001b[0mzsort\u001b[0m\u001b[1;33m,\u001b[0m\u001b[1;33m\u001b[0m\u001b[0m\n",
      "\u001b[1;32mC:\\Anaconda\\envs\\py35\\lib\\site-packages\\mpl_toolkits\\mplot3d\\axes3d.py\u001b[0m in \u001b[0;36m_shade_colors\u001b[1;34m(self, color, normals)\u001b[0m\n\u001b[0;32m   1750\u001b[0m             \u001b[1;31m# colors should have final shape of (M, 4)\u001b[0m\u001b[1;33m\u001b[0m\u001b[1;33m\u001b[0m\u001b[0m\n\u001b[0;32m   1751\u001b[0m             \u001b[0malpha\u001b[0m \u001b[1;33m=\u001b[0m \u001b[0mcolor\u001b[0m\u001b[1;33m[\u001b[0m\u001b[1;33m:\u001b[0m\u001b[1;33m,\u001b[0m \u001b[1;36m3\u001b[0m\u001b[1;33m]\u001b[0m\u001b[1;33m\u001b[0m\u001b[0m\n\u001b[1;32m-> 1752\u001b[1;33m             \u001b[0mcolors\u001b[0m \u001b[1;33m=\u001b[0m \u001b[1;33m(\u001b[0m\u001b[1;36m0.5\u001b[0m \u001b[1;33m+\u001b[0m \u001b[0mnorm\u001b[0m\u001b[1;33m(\u001b[0m\u001b[0mshade\u001b[0m\u001b[1;33m)\u001b[0m\u001b[1;33m[\u001b[0m\u001b[1;33m:\u001b[0m\u001b[1;33m,\u001b[0m \u001b[0mnp\u001b[0m\u001b[1;33m.\u001b[0m\u001b[0mnewaxis\u001b[0m\u001b[1;33m]\u001b[0m \u001b[1;33m*\u001b[0m \u001b[1;36m0.5\u001b[0m\u001b[1;33m)\u001b[0m \u001b[1;33m*\u001b[0m \u001b[0mcolor\u001b[0m\u001b[1;33m\u001b[0m\u001b[0m\n\u001b[0m\u001b[0;32m   1753\u001b[0m             \u001b[0mcolors\u001b[0m\u001b[1;33m[\u001b[0m\u001b[1;33m:\u001b[0m\u001b[1;33m,\u001b[0m \u001b[1;36m3\u001b[0m\u001b[1;33m]\u001b[0m \u001b[1;33m=\u001b[0m \u001b[0malpha\u001b[0m\u001b[1;33m\u001b[0m\u001b[0m\n\u001b[0;32m   1754\u001b[0m         \u001b[1;32melse\u001b[0m\u001b[1;33m:\u001b[0m\u001b[1;33m\u001b[0m\u001b[0m\n",
      "\u001b[1;32mC:\\Anaconda\\envs\\py35\\lib\\site-packages\\numpy\\ma\\core.py\u001b[0m in \u001b[0;36m__mul__\u001b[1;34m(self, other)\u001b[0m\n\u001b[0;32m   4090\u001b[0m         \u001b[1;32mif\u001b[0m \u001b[0mself\u001b[0m\u001b[1;33m.\u001b[0m\u001b[0m_delegate_binop\u001b[0m\u001b[1;33m(\u001b[0m\u001b[0mother\u001b[0m\u001b[1;33m)\u001b[0m\u001b[1;33m:\u001b[0m\u001b[1;33m\u001b[0m\u001b[0m\n\u001b[0;32m   4091\u001b[0m             \u001b[1;32mreturn\u001b[0m \u001b[0mNotImplemented\u001b[0m\u001b[1;33m\u001b[0m\u001b[0m\n\u001b[1;32m-> 4092\u001b[1;33m         \u001b[1;32mreturn\u001b[0m \u001b[0mmultiply\u001b[0m\u001b[1;33m(\u001b[0m\u001b[0mself\u001b[0m\u001b[1;33m,\u001b[0m \u001b[0mother\u001b[0m\u001b[1;33m)\u001b[0m\u001b[1;33m\u001b[0m\u001b[0m\n\u001b[0m\u001b[0;32m   4093\u001b[0m \u001b[1;33m\u001b[0m\u001b[0m\n\u001b[0;32m   4094\u001b[0m     \u001b[1;32mdef\u001b[0m \u001b[0m__rmul__\u001b[0m\u001b[1;33m(\u001b[0m\u001b[0mself\u001b[0m\u001b[1;33m,\u001b[0m \u001b[0mother\u001b[0m\u001b[1;33m)\u001b[0m\u001b[1;33m:\u001b[0m\u001b[1;33m\u001b[0m\u001b[0m\n",
      "\u001b[1;32mC:\\Anaconda\\envs\\py35\\lib\\site-packages\\numpy\\ma\\core.py\u001b[0m in \u001b[0;36m__call__\u001b[1;34m(self, a, b, *args, **kwargs)\u001b[0m\n\u001b[0;32m   1044\u001b[0m         \u001b[1;32mwith\u001b[0m \u001b[0mnp\u001b[0m\u001b[1;33m.\u001b[0m\u001b[0merrstate\u001b[0m\u001b[1;33m(\u001b[0m\u001b[1;33m)\u001b[0m\u001b[1;33m:\u001b[0m\u001b[1;33m\u001b[0m\u001b[0m\n\u001b[0;32m   1045\u001b[0m             \u001b[0mnp\u001b[0m\u001b[1;33m.\u001b[0m\u001b[0mseterr\u001b[0m\u001b[1;33m(\u001b[0m\u001b[0mdivide\u001b[0m\u001b[1;33m=\u001b[0m\u001b[1;34m'ignore'\u001b[0m\u001b[1;33m,\u001b[0m \u001b[0minvalid\u001b[0m\u001b[1;33m=\u001b[0m\u001b[1;34m'ignore'\u001b[0m\u001b[1;33m)\u001b[0m\u001b[1;33m\u001b[0m\u001b[0m\n\u001b[1;32m-> 1046\u001b[1;33m             \u001b[0mresult\u001b[0m \u001b[1;33m=\u001b[0m \u001b[0mself\u001b[0m\u001b[1;33m.\u001b[0m\u001b[0mf\u001b[0m\u001b[1;33m(\u001b[0m\u001b[0mda\u001b[0m\u001b[1;33m,\u001b[0m \u001b[0mdb\u001b[0m\u001b[1;33m,\u001b[0m \u001b[1;33m*\u001b[0m\u001b[0margs\u001b[0m\u001b[1;33m,\u001b[0m \u001b[1;33m**\u001b[0m\u001b[0mkwargs\u001b[0m\u001b[1;33m)\u001b[0m\u001b[1;33m\u001b[0m\u001b[0m\n\u001b[0m\u001b[0;32m   1047\u001b[0m         \u001b[1;31m# Get the mask for the result\u001b[0m\u001b[1;33m\u001b[0m\u001b[1;33m\u001b[0m\u001b[0m\n\u001b[0;32m   1048\u001b[0m         \u001b[1;33m(\u001b[0m\u001b[0mma\u001b[0m\u001b[1;33m,\u001b[0m \u001b[0mmb\u001b[0m\u001b[1;33m)\u001b[0m \u001b[1;33m=\u001b[0m \u001b[1;33m(\u001b[0m\u001b[0mgetmask\u001b[0m\u001b[1;33m(\u001b[0m\u001b[0ma\u001b[0m\u001b[1;33m)\u001b[0m\u001b[1;33m,\u001b[0m \u001b[0mgetmask\u001b[0m\u001b[1;33m(\u001b[0m\u001b[0mb\u001b[0m\u001b[1;33m)\u001b[0m\u001b[1;33m)\u001b[0m\u001b[1;33m\u001b[0m\u001b[0m\n",
      "\u001b[1;31mValueError\u001b[0m: operands could not be broadcast together with shapes (54,1) (180,4) "
     ]
    },
    {
     "data": {
      "image/png": "[encoded data removed]",
      "text/plain": [
       "<matplotlib.figure.Figure at 0x23415e6fe10>"
      ]
     },
     "metadata": {},
     "output_type": "display_data"
    }
   ],
   "source": [
    "import seaborn as sns\n",
    "sns.set_style('white')\n",
    "\"\"\"\n",
    "==============================\n",
    "Create 3D histogram of 2D data\n",
    "==============================\n",
    "\n",
    "Demo of a histogram for 2 dimensional data as a bar graph in 3D.\n",
    "\"\"\"\n",
    "\n",
    "from mpl_toolkits.mplot3d import Axes3D\n",
    "import matplotlib.pyplot as plt\n",
    "import numpy as np\n",
    "\n",
    "fig = plt.figure(figsize=(15,10))\n",
    "ax = fig.add_subplot(111, projection='3d')\n",
    "x, y = np.random.rand(2, 100) * 4\n",
    "hist, xedges, yedges = np.histogram2d(x, y, bins=3, range=[[0, 3], [0, 100]])\n",
    "yedges = np.arange(0,11,1)\n",
    "\n",
    "# Construct arrays for the anchor positions of the 16 bars.\n",
    "# Note: np.meshgrid gives arrays in (ny, nx) so we use 'F' to flatten xpos,\n",
    "# ypos in column-major order. For numpy >= 1.7, we could instead call meshgrid\n",
    "# with indexing='ij'.\n",
    "xpos, ypos = np.meshgrid(xedges[:-1] + 0.25, yedges[:-1] + 0.25)\n",
    "xpos = xpos.flatten('F')\n",
    "ypos = ypos.flatten('F')\n",
    "zpos = np.zeros_like(xpos)\n",
    "\n",
    "\n",
    "# Construct arrays with the dimensions for the 16 bars.\n",
    "dx = 0.5 * np.ones_like(zpos)\n",
    "dy = dx.copy()\n",
    "dz = hist.flatten()\n",
    "\n",
    "dx.\n",
    "\n",
    "ax.bar3d(xpos, ypos, zpos, dx, dy, dz, color='y', zsort='average')\n",
    "ax.view_init(30,90)\n",
    "plt.show()"
   ]
  },
  {
   "cell_type": "code",
   "execution_count": 145,
   "metadata": {
    "collapsed": true
   },
   "outputs": [],
   "source": [
    "?ax.view_init"
   ]
  },
  {
   "cell_type": "code",
   "execution_count": 194,
   "metadata": {
    "collapsed": false
   },
   "outputs": [],
   "source": []
  },
  {
   "cell_type": "code",
   "execution_count": 198,
   "metadata": {
    "collapsed": false
   },
   "outputs": [],
   "source": [
    "x[0][0] = 1"
   ]
  },
  {
   "cell_type": "code",
   "execution_count": 216,
   "metadata": {
    "collapsed": false
   },
   "outputs": [],
   "source": [
    "field = np.empty((300,3),dtype='object')\n",
    "yrdline = 0\n",
    "pass_location = ['left','middle','right']\n",
    "\n",
    "for row in range(0,300):\n",
    "    field[row][0] = yrdline\n",
    "    field[row][1] = pass_location[row%3]\n",
    "    field[row][2] = 0\n",
    "    if row%3 == 2:\n",
    "        yrdline += 1\n",
    "        \n",
    "        "
   ]
  },
  {
   "cell_type": "code",
   "execution_count": 217,
   "metadata": {
    "collapsed": false
   },
   "outputs": [
    {
     "data": {
      "text/plain": [
       "array([[0, 'left', 0],\n",
       "       [0, 'middle', 0],\n",
       "       [0, 'right', 0],\n",
       "       [1, 'left', 0],\n",
       "       [1, 'middle', 0],\n",
       "       [1, 'right', 0],\n",
       "       [2, 'left', 0],\n",
       "       [2, 'middle', 0],\n",
       "       [2, 'right', 0],\n",
       "       [3, 'left', 0],\n",
       "       [3, 'middle', 0],\n",
       "       [3, 'right', 0],\n",
       "       [4, 'left', 0],\n",
       "       [4, 'middle', 0],\n",
       "       [4, 'right', 0],\n",
       "       [5, 'left', 0],\n",
       "       [5, 'middle', 0],\n",
       "       [5, 'right', 0],\n",
       "       [6, 'left', 0],\n",
       "       [6, 'middle', 0],\n",
       "       [6, 'right', 0],\n",
       "       [7, 'left', 0],\n",
       "       [7, 'middle', 0],\n",
       "       [7, 'right', 0],\n",
       "       [8, 'left', 0],\n",
       "       [8, 'middle', 0],\n",
       "       [8, 'right', 0],\n",
       "       [9, 'left', 0],\n",
       "       [9, 'middle', 0],\n",
       "       [9, 'right', 0],\n",
       "       [10, 'left', 0],\n",
       "       [10, 'middle', 0],\n",
       "       [10, 'right', 0],\n",
       "       [11, 'left', 0],\n",
       "       [11, 'middle', 0],\n",
       "       [11, 'right', 0],\n",
       "       [12, 'left', 0],\n",
       "       [12, 'middle', 0],\n",
       "       [12, 'right', 0],\n",
       "       [13, 'left', 0],\n",
       "       [13, 'middle', 0],\n",
       "       [13, 'right', 0],\n",
       "       [14, 'left', 0],\n",
       "       [14, 'middle', 0],\n",
       "       [14, 'right', 0],\n",
       "       [15, 'left', 0],\n",
       "       [15, 'middle', 0],\n",
       "       [15, 'right', 0],\n",
       "       [16, 'left', 0],\n",
       "       [16, 'middle', 0],\n",
       "       [16, 'right', 0],\n",
       "       [17, 'left', 0],\n",
       "       [17, 'middle', 0],\n",
       "       [17, 'right', 0],\n",
       "       [18, 'left', 0],\n",
       "       [18, 'middle', 0],\n",
       "       [18, 'right', 0],\n",
       "       [19, 'left', 0],\n",
       "       [19, 'middle', 0],\n",
       "       [19, 'right', 0],\n",
       "       [20, 'left', 0],\n",
       "       [20, 'middle', 0],\n",
       "       [20, 'right', 0],\n",
       "       [21, 'left', 0],\n",
       "       [21, 'middle', 0],\n",
       "       [21, 'right', 0],\n",
       "       [22, 'left', 0],\n",
       "       [22, 'middle', 0],\n",
       "       [22, 'right', 0],\n",
       "       [23, 'left', 0],\n",
       "       [23, 'middle', 0],\n",
       "       [23, 'right', 0],\n",
       "       [24, 'left', 0],\n",
       "       [24, 'middle', 0],\n",
       "       [24, 'right', 0],\n",
       "       [25, 'left', 0],\n",
       "       [25, 'middle', 0],\n",
       "       [25, 'right', 0],\n",
       "       [26, 'left', 0],\n",
       "       [26, 'middle', 0],\n",
       "       [26, 'right', 0],\n",
       "       [27, 'left', 0],\n",
       "       [27, 'middle', 0],\n",
       "       [27, 'right', 0],\n",
       "       [28, 'left', 0],\n",
       "       [28, 'middle', 0],\n",
       "       [28, 'right', 0],\n",
       "       [29, 'left', 0],\n",
       "       [29, 'middle', 0],\n",
       "       [29, 'right', 0],\n",
       "       [30, 'left', 0],\n",
       "       [30, 'middle', 0],\n",
       "       [30, 'right', 0],\n",
       "       [31, 'left', 0],\n",
       "       [31, 'middle', 0],\n",
       "       [31, 'right', 0],\n",
       "       [32, 'left', 0],\n",
       "       [32, 'middle', 0],\n",
       "       [32, 'right', 0],\n",
       "       [33, 'left', 0],\n",
       "       [33, 'middle', 0],\n",
       "       [33, 'right', 0],\n",
       "       [34, 'left', 0],\n",
       "       [34, 'middle', 0],\n",
       "       [34, 'right', 0],\n",
       "       [35, 'left', 0],\n",
       "       [35, 'middle', 0],\n",
       "       [35, 'right', 0],\n",
       "       [36, 'left', 0],\n",
       "       [36, 'middle', 0],\n",
       "       [36, 'right', 0],\n",
       "       [37, 'left', 0],\n",
       "       [37, 'middle', 0],\n",
       "       [37, 'right', 0],\n",
       "       [38, 'left', 0],\n",
       "       [38, 'middle', 0],\n",
       "       [38, 'right', 0],\n",
       "       [39, 'left', 0],\n",
       "       [39, 'middle', 0],\n",
       "       [39, 'right', 0],\n",
       "       [40, 'left', 0],\n",
       "       [40, 'middle', 0],\n",
       "       [40, 'right', 0],\n",
       "       [41, 'left', 0],\n",
       "       [41, 'middle', 0],\n",
       "       [41, 'right', 0],\n",
       "       [42, 'left', 0],\n",
       "       [42, 'middle', 0],\n",
       "       [42, 'right', 0],\n",
       "       [43, 'left', 0],\n",
       "       [43, 'middle', 0],\n",
       "       [43, 'right', 0],\n",
       "       [44, 'left', 0],\n",
       "       [44, 'middle', 0],\n",
       "       [44, 'right', 0],\n",
       "       [45, 'left', 0],\n",
       "       [45, 'middle', 0],\n",
       "       [45, 'right', 0],\n",
       "       [46, 'left', 0],\n",
       "       [46, 'middle', 0],\n",
       "       [46, 'right', 0],\n",
       "       [47, 'left', 0],\n",
       "       [47, 'middle', 0],\n",
       "       [47, 'right', 0],\n",
       "       [48, 'left', 0],\n",
       "       [48, 'middle', 0],\n",
       "       [48, 'right', 0],\n",
       "       [49, 'left', 0],\n",
       "       [49, 'middle', 0],\n",
       "       [49, 'right', 0],\n",
       "       [50, 'left', 0],\n",
       "       [50, 'middle', 0],\n",
       "       [50, 'right', 0],\n",
       "       [51, 'left', 0],\n",
       "       [51, 'middle', 0],\n",
       "       [51, 'right', 0],\n",
       "       [52, 'left', 0],\n",
       "       [52, 'middle', 0],\n",
       "       [52, 'right', 0],\n",
       "       [53, 'left', 0],\n",
       "       [53, 'middle', 0],\n",
       "       [53, 'right', 0],\n",
       "       [54, 'left', 0],\n",
       "       [54, 'middle', 0],\n",
       "       [54, 'right', 0],\n",
       "       [55, 'left', 0],\n",
       "       [55, 'middle', 0],\n",
       "       [55, 'right', 0],\n",
       "       [56, 'left', 0],\n",
       "       [56, 'middle', 0],\n",
       "       [56, 'right', 0],\n",
       "       [57, 'left', 0],\n",
       "       [57, 'middle', 0],\n",
       "       [57, 'right', 0],\n",
       "       [58, 'left', 0],\n",
       "       [58, 'middle', 0],\n",
       "       [58, 'right', 0],\n",
       "       [59, 'left', 0],\n",
       "       [59, 'middle', 0],\n",
       "       [59, 'right', 0],\n",
       "       [60, 'left', 0],\n",
       "       [60, 'middle', 0],\n",
       "       [60, 'right', 0],\n",
       "       [61, 'left', 0],\n",
       "       [61, 'middle', 0],\n",
       "       [61, 'right', 0],\n",
       "       [62, 'left', 0],\n",
       "       [62, 'middle', 0],\n",
       "       [62, 'right', 0],\n",
       "       [63, 'left', 0],\n",
       "       [63, 'middle', 0],\n",
       "       [63, 'right', 0],\n",
       "       [64, 'left', 0],\n",
       "       [64, 'middle', 0],\n",
       "       [64, 'right', 0],\n",
       "       [65, 'left', 0],\n",
       "       [65, 'middle', 0],\n",
       "       [65, 'right', 0],\n",
       "       [66, 'left', 0],\n",
       "       [66, 'middle', 0],\n",
       "       [66, 'right', 0],\n",
       "       [67, 'left', 0],\n",
       "       [67, 'middle', 0],\n",
       "       [67, 'right', 0],\n",
       "       [68, 'left', 0],\n",
       "       [68, 'middle', 0],\n",
       "       [68, 'right', 0],\n",
       "       [69, 'left', 0],\n",
       "       [69, 'middle', 0],\n",
       "       [69, 'right', 0],\n",
       "       [70, 'left', 0],\n",
       "       [70, 'middle', 0],\n",
       "       [70, 'right', 0],\n",
       "       [71, 'left', 0],\n",
       "       [71, 'middle', 0],\n",
       "       [71, 'right', 0],\n",
       "       [72, 'left', 0],\n",
       "       [72, 'middle', 0],\n",
       "       [72, 'right', 0],\n",
       "       [73, 'left', 0],\n",
       "       [73, 'middle', 0],\n",
       "       [73, 'right', 0],\n",
       "       [74, 'left', 0],\n",
       "       [74, 'middle', 0],\n",
       "       [74, 'right', 0],\n",
       "       [75, 'left', 0],\n",
       "       [75, 'middle', 0],\n",
       "       [75, 'right', 0],\n",
       "       [76, 'left', 0],\n",
       "       [76, 'middle', 0],\n",
       "       [76, 'right', 0],\n",
       "       [77, 'left', 0],\n",
       "       [77, 'middle', 0],\n",
       "       [77, 'right', 0],\n",
       "       [78, 'left', 0],\n",
       "       [78, 'middle', 0],\n",
       "       [78, 'right', 0],\n",
       "       [79, 'left', 0],\n",
       "       [79, 'middle', 0],\n",
       "       [79, 'right', 0],\n",
       "       [80, 'left', 0],\n",
       "       [80, 'middle', 0],\n",
       "       [80, 'right', 0],\n",
       "       [81, 'left', 0],\n",
       "       [81, 'middle', 0],\n",
       "       [81, 'right', 0],\n",
       "       [82, 'left', 0],\n",
       "       [82, 'middle', 0],\n",
       "       [82, 'right', 0],\n",
       "       [83, 'left', 0],\n",
       "       [83, 'middle', 0],\n",
       "       [83, 'right', 0],\n",
       "       [84, 'left', 0],\n",
       "       [84, 'middle', 0],\n",
       "       [84, 'right', 0],\n",
       "       [85, 'left', 0],\n",
       "       [85, 'middle', 0],\n",
       "       [85, 'right', 0],\n",
       "       [86, 'left', 0],\n",
       "       [86, 'middle', 0],\n",
       "       [86, 'right', 0],\n",
       "       [87, 'left', 0],\n",
       "       [87, 'middle', 0],\n",
       "       [87, 'right', 0],\n",
       "       [88, 'left', 0],\n",
       "       [88, 'middle', 0],\n",
       "       [88, 'right', 0],\n",
       "       [89, 'left', 0],\n",
       "       [89, 'middle', 0],\n",
       "       [89, 'right', 0],\n",
       "       [90, 'left', 0],\n",
       "       [90, 'middle', 0],\n",
       "       [90, 'right', 0],\n",
       "       [91, 'left', 0],\n",
       "       [91, 'middle', 0],\n",
       "       [91, 'right', 0],\n",
       "       [92, 'left', 0],\n",
       "       [92, 'middle', 0],\n",
       "       [92, 'right', 0],\n",
       "       [93, 'left', 0],\n",
       "       [93, 'middle', 0],\n",
       "       [93, 'right', 0],\n",
       "       [94, 'left', 0],\n",
       "       [94, 'middle', 0],\n",
       "       [94, 'right', 0],\n",
       "       [95, 'left', 0],\n",
       "       [95, 'middle', 0],\n",
       "       [95, 'right', 0],\n",
       "       [96, 'left', 0],\n",
       "       [96, 'middle', 0],\n",
       "       [96, 'right', 0],\n",
       "       [97, 'left', 0],\n",
       "       [97, 'middle', 0],\n",
       "       [97, 'right', 0],\n",
       "       [98, 'left', 0],\n",
       "       [98, 'middle', 0],\n",
       "       [98, 'right', 0],\n",
       "       [99, 'left', 0],\n",
       "       [99, 'middle', 0],\n",
       "       [99, 'right', 0]], dtype=object)"
      ]
     },
     "execution_count": 217,
     "metadata": {},
     "output_type": "execute_result"
    }
   ],
   "source": [
    "field"
   ]
  },
  {
   "cell_type": "code",
   "execution_count": null,
   "metadata": {
    "collapsed": true
   },
   "outputs": [],
   "source": []
  }
 ],
 "metadata": {
  "kernelspec": {
   "display_name": "Python 3",
   "language": "python",
   "name": "python3"
  },
  "language_info": {
   "codemirror_mode": {
    "name": "ipython",
    "version": 3
   },
   "file_extension": ".py",
   "mimetype": "text/x-python",
   "name": "python",
   "nbconvert_exporter": "python",
   "pygments_lexer": "ipython3",
   "version": "3.5.1"
  },
  "widgets": {
   "state": {
    "01adbbba9e334edf95cc01430b88be05": {
     "views": []
    },
    "054431bc256f41edad30fdea86dd2f8d": {
     "views": []
    },
    "0653ad0b2f764c28b156e46c10cb3b8d": {
     "views": []
    },
    "085180c3d1084238a1408bc79325daff": {
     "views": []
    },
    "087a15fc315447fdb64277b8cee27bd7": {
     "views": []
    },
    "0bbc5c7d98264a259a6b5727751aa03b": {
     "views": []
    },
    "0dc56a1b081a4bda98c14b5a6c6bfccf": {
     "views": []
    },
    "0eb53772eac14ace98f90511207c4d93": {
     "views": []
    },
    "0fadce3357fb44cfacfb55e30c4f8c9a": {
     "views": []
    },
    "1101990bba774460bdb1659c77b2e6f2": {
     "views": []
    },
    "13e10230249a4a1b9142dfa8c08507b2": {
     "views": []
    },
    "1af3265457a34e73b470d26d16f81921": {
     "views": []
    },
    "1b99bf69543c409893a84c87c9efc9bb": {
     "views": []
    },
    "1e903102db4d408096eb8eddf3639e26": {
     "views": [
      {
       "cell_index": 4
      }
     ]
    },
    "215a1d513f874f56b65847d6034d4b32": {
     "views": []
    },
    "223ca850321443f889f5610f2ec25911": {
     "views": []
    },
    "23701e5227154175a7099f37868772d1": {
     "views": []
    },
    "249b35ba2b844fe2a4c005fa8dd51263": {
     "views": []
    },
    "26397b45df3a42c984bb43ef0e1e4491": {
     "views": []
    },
    "27943587f0484cdebb4711f8c3fb3fed": {
     "views": []
    },
    "28b9a8d5686f4fa097b719a5a5fe1d47": {
     "views": []
    },
    "28c272d90db34015bf9f7b82f0c62056": {
     "views": []
    },
    "2a41c68233434cfa94c1b48290c744a2": {
     "views": []
    },
    "2af9230608214e50a0eb947403a2beaf": {
     "views": []
    },
    "2bc61fffb60940a0bcb3e4338bb244b0": {
     "views": []
    },
    "2ca023bfbf314ddb8fb08f45f113fe32": {
     "views": []
    },
    "2cc96e5462374e4b8ef6b0c3fa3ff5e9": {
     "views": []
    },
    "2d37eb7a1e614763bc5b1a211f618561": {
     "views": []
    },
    "32fc67329f8b4430aef37d51b14e69b3": {
     "views": []
    },
    "3442c43862364b079aa89c25b0b89e40": {
     "views": []
    },
    "38946a7ce1764aa9a76cd6473045ab9c": {
     "views": []
    },
    "42d085256e0b492f885c40b2490592de": {
     "views": []
    },
    "43bedcb6d6b8414b87c0bf48ad77fa16": {
     "views": []
    },
    "4c2f3db5aee840fba915ac0faa6c6c43": {
     "views": []
    },
    "4cc5d5c750a84461b3125c6347239627": {
     "views": []
    },
    "4e4b1cb17626415cac9ce363b21dd690": {
     "views": []
    },
    "4e8856d51f224014a099c59f4c43f09e": {
     "views": []
    },
    "4f0bb08963a64d49ac3a19250ed6808b": {
     "views": []
    },
    "515fc7c1c42c472699c640f0e4100576": {
     "views": []
    },
    "58297effb42e44a5a0deb2fa64ea40cd": {
     "views": []
    },
    "5a5c91d8627049e5bcc8bc6d6f1c8001": {
     "views": []
    },
    "5ef73be8d5cf4ce78a3b1b1a13d65b62": {
     "views": []
    },
    "5ff98681fdbb4c08b4383a1ae2e26a12": {
     "views": []
    },
    "606986c5d9474ce09d745b7def58a8f1": {
     "views": []
    },
    "64b83471105b47dda817d355ae2ebc16": {
     "views": []
    },
    "655de4b2d8ce410d9f37499e70401717": {
     "views": []
    },
    "6fd2316c985f4bc7912aa5fa5e3e12af": {
     "views": []
    },
    "704d247dac794d5ea13d4a4a5e341330": {
     "views": []
    },
    "7353973911cd464dbc67874915715227": {
     "views": []
    },
    "785910373f314dfb9a3da9f447e847f8": {
     "views": []
    },
    "79773a5f34ca4ac0aefc093c52d4ebb0": {
     "views": []
    },
    "7ed388dfadc64c14aa3b94e6b42f6e68": {
     "views": []
    },
    "7facd251469d4090867a38370386f866": {
     "views": []
    },
    "80a5b8cd46d94cfa9a009c3e7a83c23d": {
     "views": []
    },
    "81ee536835f1458b8d2ecff63c7ed643": {
     "views": []
    },
    "8298c9b6c53b4b20ba3a8292823b4079": {
     "views": []
    },
    "8385348e4cab4f50bdff9bcb58e32fb8": {
     "views": []
    },
    "83bb8238f366431fa2993dc6cfa9d35b": {
     "views": []
    },
    "846ba537a50c45c8ba61867356145f41": {
     "views": []
    },
    "87f0b7642f1c4078a7c166834eaf855e": {
     "views": []
    },
    "8d437b8b9ec344eabb6efc410883eb70": {
     "views": []
    },
    "909ad76e6fb94496b2e03c68148c5ae0": {
     "views": []
    },
    "91d6b0f1717e49fdb0f76dbfb5055bb8": {
     "views": []
    },
    "91eef05da4f14ba28df2b3a221d21e34": {
     "views": [
      {
       "cell_index": 5
      }
     ]
    },
    "92e3c0ed061f4e02b9a0385d4c727d68": {
     "views": []
    },
    "94342e5a115b4f499574a5a8465310cd": {
     "views": []
    },
    "957acee914924ab988783ae302dbfc83": {
     "views": []
    },
    "968aa89b4dea4053b857ee4ddf1d78e4": {
     "views": []
    },
    "9d14254d5042448592efd6f6e0be2b26": {
     "views": []
    },
    "a00fb100a4024218b9bc21c19011282f": {
     "views": []
    },
    "a167321fac4841d095283a7e263983ee": {
     "views": []
    },
    "a522048bfe6348fab8978f523efa98ce": {
     "views": []
    },
    "a7717ed2a5ee4a9fb07ca20c665d0592": {
     "views": []
    },
    "a829bb04a5d34405bf421760de8b3435": {
     "views": []
    },
    "a93c5f0774514ca4b91fa3e04cf13287": {
     "views": []
    },
    "a98a3e20a252418ba5d59d9843231daf": {
     "views": [
      {
       "cell_index": 1
      }
     ]
    },
    "b3083c81afc549949b0f89fb3928263a": {
     "views": []
    },
    "b39836657c2941d4863f83aa5d111b48": {
     "views": []
    },
    "b6e43e1f29b848ee8a46bf18e3e98d38": {
     "views": []
    },
    "be3d550616c44623b82d298898ac0dec": {
     "views": []
    },
    "be68b50328c44503aebdbdb91c09bbb6": {
     "views": []
    },
    "be6aefaa05d34f598e8ef9d87a694133": {
     "views": []
    },
    "bea71a2e72bf4d708813aadcfb7aa1f1": {
     "views": []
    },
    "bfc8dc49e08c4fb4995d3e8c5eb9a45c": {
     "views": []
    },
    "c6159cd7b41b4cbea41e738a97a4f2e7": {
     "views": [
      {
       "cell_index": 6
      }
     ]
    },
    "c685339cf7b941c89961c885d34c19c1": {
     "views": []
    },
    "cc65e4a54ddf4110b75f36871bdd9e93": {
     "views": []
    },
    "cd17bc14e85e4b70ad0afae0b5c09814": {
     "views": []
    },
    "ce322439041f44ff8e706b375775c7fd": {
     "views": []
    },
    "d01f5bad74a5490cbac7c4ba5aa160c0": {
     "views": []
    },
    "d2d273db6ef447739566c0cecd4852b6": {
     "views": []
    },
    "d39cbab37d72451bbe23ec253b419525": {
     "views": []
    },
    "d3c4f5b4c7d44813b4e79c715c450a24": {
     "views": []
    },
    "d8120d1e61e24833bbcf00c618ce7ce0": {
     "views": []
    },
    "d88aa64e0c204e16909e5efe06019137": {
     "views": []
    },
    "dc6d40daf98b4bfbb527974d99ea1cd9": {
     "views": []
    },
    "dd9891393bca4bc5a80096b10910c668": {
     "views": []
    },
    "de1fed4fb0fd4b2fabd691221c88be1f": {
     "views": []
    },
    "de754752a54d45288004d3b9da42faa5": {
     "views": []
    },
    "e42685f41e664a7abd2a70c16cf9dcad": {
     "views": []
    },
    "e48f2d01685e4aafb2f2193e5f24e7e1": {
     "views": []
    },
    "e5da25f602c94bc9a721bb5342a244a9": {
     "views": []
    },
    "e5f88934e1cc41d6af748b9770d4cd42": {
     "views": []
    },
    "efe3a31f35fa4263a4586f35cb610df1": {
     "views": []
    },
    "f1016808fa5f47a5b65bd2dd27bbe47d": {
     "views": []
    },
    "f1af3c8064b649b5ba59eadd2ddf3bda": {
     "views": []
    },
    "f267658d4be14717bc3f4d136fd4bfeb": {
     "views": []
    },
    "f351a5a3bf5d4e478fedc9909e93d7d7": {
     "views": []
    },
    "f6a75294223f430da16736b53b10e0fb": {
     "views": []
    },
    "f9b1fbf580844e9cb9d7e3ebc8cc24fa": {
     "views": []
    },
    "fa3a25b33a6d4bccbd9394c091a7e211": {
     "views": []
    },
    "fa8cdc40372f4c128f6aee623af94f3d": {
     "views": []
    },
    "fd9b96fbbced4adbbc0d637635bed7ed": {
     "views": []
    },
    "fdbcd0db96e0449abc567fc7f0f5a45e": {
     "views": []
    },
    "fea9905590444d1fb410a5ce0ec87fc3": {
     "views": []
    },
    "ff291719e442419ea503cbb3880a5515": {
     "views": []
    }
   },
   "version": "1.1.2"
  }
 },
 "nbformat": 4,
 "nbformat_minor": 0
}
